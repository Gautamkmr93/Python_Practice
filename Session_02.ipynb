{
 "cells": [
  {
   "cell_type": "markdown",
   "id": "b3318d6b",
   "metadata": {},
   "source": [
    "## Sets"
   ]
  },
  {
   "cell_type": "code",
   "execution_count": null,
   "id": "3774ad3f",
   "metadata": {},
   "outputs": [],
   "source": [
    "1.List\n",
    "2.Tuple\n",
    "3.Dict\n",
    "4.Sets"
   ]
  },
  {
   "cell_type": "markdown",
   "id": "0221abc9",
   "metadata": {},
   "source": [
    "# Sets are used to store multiple items in a single variable."
   ]
  },
  {
   "cell_type": "code",
   "execution_count": 1,
   "id": "c3afb71c",
   "metadata": {},
   "outputs": [],
   "source": [
    "list1=[1,2,3,4,5,2,3,90,45]"
   ]
  },
  {
   "cell_type": "code",
   "execution_count": 4,
   "id": "ce8cd622",
   "metadata": {},
   "outputs": [],
   "source": [
    "list2=[1,2,3,4,5,2,3,90,45,'mango','apple']"
   ]
  },
  {
   "cell_type": "code",
   "execution_count": 2,
   "id": "1a35c0dc",
   "metadata": {},
   "outputs": [],
   "source": [
    "list1.sort()"
   ]
  },
  {
   "cell_type": "code",
   "execution_count": 3,
   "id": "6366fd7a",
   "metadata": {},
   "outputs": [
    {
     "data": {
      "text/plain": [
       "[1, 2, 2, 3, 3, 4, 5, 45, 90]"
      ]
     },
     "execution_count": 3,
     "metadata": {},
     "output_type": "execute_result"
    }
   ],
   "source": [
    "list1"
   ]
  },
  {
   "cell_type": "code",
   "execution_count": 6,
   "id": "4764fdcd",
   "metadata": {},
   "outputs": [],
   "source": [
    "l1={\"apple\",\"banana\",1,2,34}"
   ]
  },
  {
   "cell_type": "code",
   "execution_count": 7,
   "id": "6f6e40a6",
   "metadata": {},
   "outputs": [
    {
     "data": {
      "text/plain": [
       "{1, 2, 34, 'apple', 'banana'}"
      ]
     },
     "execution_count": 7,
     "metadata": {},
     "output_type": "execute_result"
    }
   ],
   "source": [
    "l1"
   ]
  },
  {
   "cell_type": "markdown",
   "id": "72114df3",
   "metadata": {},
   "source": [
    "Access set items"
   ]
  },
  {
   "cell_type": "code",
   "execution_count": 9,
   "id": "24e5f582",
   "metadata": {},
   "outputs": [],
   "source": [
    "set1={\"apple\",\"banana\",\"kiwi\"}"
   ]
  },
  {
   "cell_type": "code",
   "execution_count": 10,
   "id": "b40195e5",
   "metadata": {},
   "outputs": [
    {
     "data": {
      "text/plain": [
       "{'apple', 'banana', 'kiwi'}"
      ]
     },
     "execution_count": 10,
     "metadata": {},
     "output_type": "execute_result"
    }
   ],
   "source": [
    "set1"
   ]
  },
  {
   "cell_type": "code",
   "execution_count": 12,
   "id": "feb78556",
   "metadata": {},
   "outputs": [
    {
     "name": "stdout",
     "output_type": "stream",
     "text": [
      "apple\n",
      "banana\n",
      "kiwi\n"
     ]
    }
   ],
   "source": [
    "for i in set1:\n",
    "    print(i)"
   ]
  },
  {
   "cell_type": "markdown",
   "id": "ee23e86e",
   "metadata": {},
   "source": [
    "adding items into set"
   ]
  },
  {
   "cell_type": "code",
   "execution_count": 16,
   "id": "69048c2c",
   "metadata": {},
   "outputs": [],
   "source": [
    "set1.add(\"orange\")"
   ]
  },
  {
   "cell_type": "code",
   "execution_count": 17,
   "id": "b047bee8",
   "metadata": {},
   "outputs": [
    {
     "data": {
      "text/plain": [
       "{'apple', 'banana', 'kiwi', 'orange'}"
      ]
     },
     "execution_count": 17,
     "metadata": {},
     "output_type": "execute_result"
    }
   ],
   "source": [
    "set1"
   ]
  },
  {
   "cell_type": "code",
   "execution_count": 19,
   "id": "3ec1d1e1",
   "metadata": {},
   "outputs": [],
   "source": [
    "set2={'Gautam','Kumar','rohan'}"
   ]
  },
  {
   "cell_type": "code",
   "execution_count": 20,
   "id": "74079aea",
   "metadata": {},
   "outputs": [],
   "source": [
    "set1.update(set2)"
   ]
  },
  {
   "cell_type": "code",
   "execution_count": 21,
   "id": "561e35bf",
   "metadata": {},
   "outputs": [
    {
     "data": {
      "text/plain": [
       "{'Gautam', 'Kumar', 'apple', 'banana', 'kiwi', 'orange', 'rohan'}"
      ]
     },
     "execution_count": 21,
     "metadata": {},
     "output_type": "execute_result"
    }
   ],
   "source": [
    "set1"
   ]
  },
  {
   "cell_type": "code",
   "execution_count": 23,
   "id": "1f59177d",
   "metadata": {},
   "outputs": [],
   "source": [
    "set3={'sahil'}\n",
    "set3.update(set1)"
   ]
  },
  {
   "cell_type": "code",
   "execution_count": 24,
   "id": "dc0d24c1",
   "metadata": {},
   "outputs": [
    {
     "data": {
      "text/plain": [
       "{'Gautam', 'Kumar', 'apple', 'banana', 'kiwi', 'orange', 'rohan', 'sahil'}"
      ]
     },
     "execution_count": 24,
     "metadata": {},
     "output_type": "execute_result"
    }
   ],
   "source": [
    "set3#question"
   ]
  },
  {
   "cell_type": "markdown",
   "id": "ed1b332b",
   "metadata": {},
   "source": [
    "remove items from sets"
   ]
  },
  {
   "cell_type": "markdown",
   "id": "1625db7f",
   "metadata": {},
   "source": [
    "remove()\n",
    "discard()"
   ]
  },
  {
   "cell_type": "code",
   "execution_count": 25,
   "id": "190656ab",
   "metadata": {},
   "outputs": [],
   "source": [
    "set3.remove('Gautam')"
   ]
  },
  {
   "cell_type": "code",
   "execution_count": 26,
   "id": "02022508",
   "metadata": {},
   "outputs": [
    {
     "data": {
      "text/plain": [
       "{'Kumar', 'apple', 'banana', 'kiwi', 'orange', 'rohan', 'sahil'}"
      ]
     },
     "execution_count": 26,
     "metadata": {},
     "output_type": "execute_result"
    }
   ],
   "source": [
    "set3"
   ]
  },
  {
   "cell_type": "code",
   "execution_count": 27,
   "id": "5bae81ba",
   "metadata": {},
   "outputs": [],
   "source": [
    "set3.discard('apple')"
   ]
  },
  {
   "cell_type": "code",
   "execution_count": 28,
   "id": "748f4f95",
   "metadata": {},
   "outputs": [
    {
     "data": {
      "text/plain": [
       "{'Kumar', 'banana', 'kiwi', 'orange', 'rohan', 'sahil'}"
      ]
     },
     "execution_count": 28,
     "metadata": {},
     "output_type": "execute_result"
    }
   ],
   "source": [
    "set3"
   ]
  },
  {
   "cell_type": "code",
   "execution_count": 29,
   "id": "1ae0f80d",
   "metadata": {},
   "outputs": [
    {
     "ename": "KeyError",
     "evalue": "'Gautam'",
     "output_type": "error",
     "traceback": [
      "\u001b[1;31m---------------------------------------------------------------------------\u001b[0m",
      "\u001b[1;31mKeyError\u001b[0m                                  Traceback (most recent call last)",
      "Input \u001b[1;32mIn [29]\u001b[0m, in \u001b[0;36m<cell line: 1>\u001b[1;34m()\u001b[0m\n\u001b[1;32m----> 1\u001b[0m \u001b[43mset3\u001b[49m\u001b[38;5;241;43m.\u001b[39;49m\u001b[43mremove\u001b[49m\u001b[43m(\u001b[49m\u001b[38;5;124;43m'\u001b[39;49m\u001b[38;5;124;43mGautam\u001b[39;49m\u001b[38;5;124;43m'\u001b[39;49m\u001b[43m)\u001b[49m\n",
      "\u001b[1;31mKeyError\u001b[0m: 'Gautam'"
     ]
    }
   ],
   "source": [
    "set3.remove('Gautam')"
   ]
  },
  {
   "cell_type": "code",
   "execution_count": 30,
   "id": "47329610",
   "metadata": {},
   "outputs": [],
   "source": [
    "set3.discard('apple')"
   ]
  },
  {
   "cell_type": "code",
   "execution_count": 33,
   "id": "0f047a37",
   "metadata": {},
   "outputs": [
    {
     "ename": "TypeError",
     "evalue": "unhashable type: 'list'",
     "output_type": "error",
     "traceback": [
      "\u001b[1;31m---------------------------------------------------------------------------\u001b[0m",
      "\u001b[1;31mTypeError\u001b[0m                                 Traceback (most recent call last)",
      "Input \u001b[1;32mIn [33]\u001b[0m, in \u001b[0;36m<cell line: 1>\u001b[1;34m()\u001b[0m\n\u001b[1;32m----> 1\u001b[0m \u001b[43mset3\u001b[49m\u001b[38;5;241;43m.\u001b[39;49m\u001b[43mdiscard\u001b[49m\u001b[43m(\u001b[49m\u001b[43m[\u001b[49m\u001b[38;5;124;43m'\u001b[39;49m\u001b[38;5;124;43mkiwi\u001b[39;49m\u001b[38;5;124;43m'\u001b[39;49m\u001b[43m,\u001b[49m\u001b[38;5;124;43m'\u001b[39;49m\u001b[38;5;124;43morange\u001b[39;49m\u001b[38;5;124;43m'\u001b[39;49m\u001b[43m]\u001b[49m\u001b[43m)\u001b[49m\n",
      "\u001b[1;31mTypeError\u001b[0m: unhashable type: 'list'"
     ]
    }
   ],
   "source": [
    "set3.discard(['kiwi','orange'])"
   ]
  },
  {
   "cell_type": "code",
   "execution_count": 38,
   "id": "1de30034",
   "metadata": {},
   "outputs": [
    {
     "name": "stdout",
     "output_type": "stream",
     "text": [
      "{'rohan', 'sahil', 'banana', 'orange', 'Kumar', 'kiwi'}\n",
      "{'Gautam', 'Kumar', 'rohan'}\n"
     ]
    }
   ],
   "source": [
    "print(set3)\n",
    "print(set2)"
   ]
  },
  {
   "cell_type": "code",
   "execution_count": 39,
   "id": "b91331ec",
   "metadata": {},
   "outputs": [
    {
     "data": {
      "text/plain": [
       "{'Gautam', 'Kumar', 'rohan'}"
      ]
     },
     "execution_count": 39,
     "metadata": {},
     "output_type": "execute_result"
    }
   ],
   "source": [
    "set3\n",
    "set2"
   ]
  },
  {
   "cell_type": "code",
   "execution_count": 40,
   "id": "f36701a0",
   "metadata": {},
   "outputs": [],
   "source": [
    "set2.update(set3)"
   ]
  },
  {
   "cell_type": "code",
   "execution_count": 41,
   "id": "31b183e9",
   "metadata": {},
   "outputs": [
    {
     "data": {
      "text/plain": [
       "{'Gautam', 'Kumar', 'banana', 'kiwi', 'orange', 'rohan', 'sahil'}"
      ]
     },
     "execution_count": 41,
     "metadata": {},
     "output_type": "execute_result"
    }
   ],
   "source": [
    "set2"
   ]
  },
  {
   "cell_type": "code",
   "execution_count": 42,
   "id": "0abe9dbd",
   "metadata": {},
   "outputs": [],
   "source": [
    "set4=set2.union(set3)"
   ]
  },
  {
   "cell_type": "code",
   "execution_count": 44,
   "id": "3b03ce72",
   "metadata": {},
   "outputs": [
    {
     "data": {
      "text/plain": [
       "{'Gautam', 'Kumar', 'banana', 'kiwi', 'orange', 'rohan', 'sahil'}"
      ]
     },
     "execution_count": 44,
     "metadata": {},
     "output_type": "execute_result"
    }
   ],
   "source": [
    "set4"
   ]
  },
  {
   "cell_type": "code",
   "execution_count": 45,
   "id": "e8879857",
   "metadata": {},
   "outputs": [],
   "source": [
    "set4.clear()"
   ]
  },
  {
   "cell_type": "code",
   "execution_count": 46,
   "id": "658314b8",
   "metadata": {},
   "outputs": [
    {
     "data": {
      "text/plain": [
       "set()"
      ]
     },
     "execution_count": 46,
     "metadata": {},
     "output_type": "execute_result"
    }
   ],
   "source": [
    "set4"
   ]
  },
  {
   "cell_type": "markdown",
   "id": "142091a7",
   "metadata": {},
   "source": [
    "## Python Dictionaries"
   ]
  },
  {
   "cell_type": "code",
   "execution_count": 47,
   "id": "bbe8cf63",
   "metadata": {},
   "outputs": [],
   "source": [
    "dict1={}\n",
    "list=[]"
   ]
  },
  {
   "cell_type": "code",
   "execution_count": 89,
   "id": "01a7c2d1",
   "metadata": {},
   "outputs": [],
   "source": [
    "dict2={\"brand\":\"Ford\",'Model':'xuv','year':1999}"
   ]
  },
  {
   "cell_type": "code",
   "execution_count": 90,
   "id": "05ad95e6",
   "metadata": {},
   "outputs": [
    {
     "data": {
      "text/plain": [
       "{'brand': 'Ford', 'Model': 'xuv', 'year': 1999}"
      ]
     },
     "execution_count": 90,
     "metadata": {},
     "output_type": "execute_result"
    }
   ],
   "source": [
    "dict2"
   ]
  },
  {
   "cell_type": "code",
   "execution_count": 91,
   "id": "e385f703",
   "metadata": {},
   "outputs": [
    {
     "data": {
      "text/plain": [
       "1999"
      ]
     },
     "execution_count": 91,
     "metadata": {},
     "output_type": "execute_result"
    }
   ],
   "source": [
    "dict2['year']"
   ]
  },
  {
   "cell_type": "code",
   "execution_count": 92,
   "id": "c0891e4f",
   "metadata": {},
   "outputs": [
    {
     "name": "stdout",
     "output_type": "stream",
     "text": [
      "dict_keys(['brand', 'Model', 'year'])\n"
     ]
    }
   ],
   "source": [
    "print(dict2.keys())"
   ]
  },
  {
   "cell_type": "code",
   "execution_count": 93,
   "id": "e4021e65",
   "metadata": {},
   "outputs": [
    {
     "data": {
      "text/plain": [
       "1999"
      ]
     },
     "execution_count": 93,
     "metadata": {},
     "output_type": "execute_result"
    }
   ],
   "source": [
    "dict2['year']"
   ]
  },
  {
   "cell_type": "code",
   "execution_count": 94,
   "id": "f4638d91",
   "metadata": {},
   "outputs": [],
   "source": [
    "dict2['year']=2022"
   ]
  },
  {
   "cell_type": "code",
   "execution_count": 95,
   "id": "3964b3e3",
   "metadata": {},
   "outputs": [
    {
     "data": {
      "text/plain": [
       "{'brand': 'Ford', 'Model': 'xuv', 'year': 2022}"
      ]
     },
     "execution_count": 95,
     "metadata": {},
     "output_type": "execute_result"
    }
   ],
   "source": [
    "dict2"
   ]
  },
  {
   "cell_type": "code",
   "execution_count": 96,
   "id": "d102ad12",
   "metadata": {},
   "outputs": [],
   "source": [
    "dict2['brand']=\"BMW\""
   ]
  },
  {
   "cell_type": "code",
   "execution_count": 97,
   "id": "48a5c0da",
   "metadata": {},
   "outputs": [
    {
     "data": {
      "text/plain": [
       "{'brand': 'BMW', 'Model': 'xuv', 'year': 2022}"
      ]
     },
     "execution_count": 97,
     "metadata": {},
     "output_type": "execute_result"
    }
   ],
   "source": [
    "dict2"
   ]
  },
  {
   "cell_type": "code",
   "execution_count": 98,
   "id": "f9cf71b7",
   "metadata": {},
   "outputs": [],
   "source": [
    "dict2['color']='blue'"
   ]
  },
  {
   "cell_type": "code",
   "execution_count": 99,
   "id": "6007f966",
   "metadata": {},
   "outputs": [
    {
     "data": {
      "text/plain": [
       "{'brand': 'BMW', 'Model': 'xuv', 'year': 2022, 'color': 'blue'}"
      ]
     },
     "execution_count": 99,
     "metadata": {},
     "output_type": "execute_result"
    }
   ],
   "source": [
    "dict2"
   ]
  },
  {
   "cell_type": "code",
   "execution_count": 100,
   "id": "a567abd4",
   "metadata": {},
   "outputs": [
    {
     "data": {
      "text/plain": [
       "dict_keys(['brand', 'Model', 'year', 'color'])"
      ]
     },
     "execution_count": 100,
     "metadata": {},
     "output_type": "execute_result"
    }
   ],
   "source": [
    "dict2.keys()"
   ]
  },
  {
   "cell_type": "code",
   "execution_count": 101,
   "id": "241dc45c",
   "metadata": {},
   "outputs": [],
   "source": [
    "dict2.update({'color':'red','model':'Sedan'})"
   ]
  },
  {
   "cell_type": "code",
   "execution_count": 102,
   "id": "e43000f4",
   "metadata": {},
   "outputs": [
    {
     "data": {
      "text/plain": [
       "{'brand': 'BMW',\n",
       " 'Model': 'xuv',\n",
       " 'year': 2022,\n",
       " 'color': 'red',\n",
       " 'model': 'Sedan'}"
      ]
     },
     "execution_count": 102,
     "metadata": {},
     "output_type": "execute_result"
    }
   ],
   "source": [
    "dict2"
   ]
  },
  {
   "cell_type": "code",
   "execution_count": 103,
   "id": "a954992e",
   "metadata": {},
   "outputs": [
    {
     "data": {
      "text/plain": [
       "'Sedan'"
      ]
     },
     "execution_count": 103,
     "metadata": {},
     "output_type": "execute_result"
    }
   ],
   "source": [
    "dict2.pop(\"model\")"
   ]
  },
  {
   "cell_type": "code",
   "execution_count": 104,
   "id": "ad4ba258",
   "metadata": {},
   "outputs": [
    {
     "data": {
      "text/plain": [
       "dict_keys(['brand', 'Model', 'year', 'color'])"
      ]
     },
     "execution_count": 104,
     "metadata": {},
     "output_type": "execute_result"
    }
   ],
   "source": [
    "dict2.keys()"
   ]
  },
  {
   "cell_type": "code",
   "execution_count": 105,
   "id": "a7e3fe8a",
   "metadata": {},
   "outputs": [
    {
     "data": {
      "text/plain": [
       "('color', 'red')"
      ]
     },
     "execution_count": 105,
     "metadata": {},
     "output_type": "execute_result"
    }
   ],
   "source": [
    "dict2.popitem()"
   ]
  },
  {
   "cell_type": "code",
   "execution_count": 106,
   "id": "c02328e8",
   "metadata": {},
   "outputs": [],
   "source": [
    "#del dict2"
   ]
  },
  {
   "cell_type": "code",
   "execution_count": 107,
   "id": "1c36f12c",
   "metadata": {},
   "outputs": [
    {
     "data": {
      "text/plain": [
       "{'brand': 'BMW', 'Model': 'xuv', 'year': 2022}"
      ]
     },
     "execution_count": 107,
     "metadata": {},
     "output_type": "execute_result"
    }
   ],
   "source": [
    "dict2"
   ]
  },
  {
   "cell_type": "code",
   "execution_count": 111,
   "id": "2c5827dd",
   "metadata": {},
   "outputs": [
    {
     "data": {
      "text/plain": [
       "'xuv'"
      ]
     },
     "execution_count": 111,
     "metadata": {},
     "output_type": "execute_result"
    }
   ],
   "source": [
    "#dict2.clear()\n",
    "dict2['Model']\n",
    "dict2.get('Model')"
   ]
  },
  {
   "cell_type": "code",
   "execution_count": 112,
   "id": "4fc86790",
   "metadata": {},
   "outputs": [
    {
     "data": {
      "text/plain": [
       "dict_keys(['brand', 'Model', 'year'])"
      ]
     },
     "execution_count": 112,
     "metadata": {},
     "output_type": "execute_result"
    }
   ],
   "source": [
    "dict2.keys()"
   ]
  },
  {
   "cell_type": "code",
   "execution_count": 113,
   "id": "13bcdd52",
   "metadata": {},
   "outputs": [
    {
     "data": {
      "text/plain": [
       "dict_items([('brand', 'BMW'), ('Model', 'xuv'), ('year', 2022)])"
      ]
     },
     "execution_count": 113,
     "metadata": {},
     "output_type": "execute_result"
    }
   ],
   "source": [
    "dict2.items()"
   ]
  },
  {
   "cell_type": "markdown",
   "id": "cfb319d3",
   "metadata": {},
   "source": [
    "# Operators"
   ]
  },
  {
   "cell_type": "markdown",
   "id": "8c75601a",
   "metadata": {},
   "source": [
    "Arithmetic"
   ]
  },
  {
   "cell_type": "code",
   "execution_count": 117,
   "id": "21f071b0",
   "metadata": {},
   "outputs": [
    {
     "name": "stdout",
     "output_type": "stream",
     "text": [
      "enter your num:23\n",
      "enter your num:30\n",
      "sum: 53\n"
     ]
    }
   ],
   "source": [
    "a=int(input('enter your num:'))\n",
    "b=int(input('enter your num:'))\n",
    "print('sum:',a+b)"
   ]
  },
  {
   "cell_type": "code",
   "execution_count": 118,
   "id": "c2e1d864",
   "metadata": {},
   "outputs": [
    {
     "name": "stdout",
     "output_type": "stream",
     "text": [
      "sub: -7\n"
     ]
    }
   ],
   "source": [
    "print('sub:',a-b)"
   ]
  },
  {
   "cell_type": "code",
   "execution_count": 119,
   "id": "4bd2bf0b",
   "metadata": {},
   "outputs": [
    {
     "name": "stdout",
     "output_type": "stream",
     "text": [
      "mul 690\n"
     ]
    }
   ],
   "source": [
    "print('mul',a*b)"
   ]
  },
  {
   "cell_type": "code",
   "execution_count": 120,
   "id": "c9dcd7f6",
   "metadata": {},
   "outputs": [
    {
     "name": "stdout",
     "output_type": "stream",
     "text": [
      "div: 0.7666666666666667\n"
     ]
    }
   ],
   "source": [
    "print('div:',a/b)"
   ]
  },
  {
   "cell_type": "code",
   "execution_count": 121,
   "id": "61f81b49",
   "metadata": {},
   "outputs": [
    {
     "name": "stdout",
     "output_type": "stream",
     "text": [
      "floor div 0\n"
     ]
    }
   ],
   "source": [
    "print('floor div',a//b)"
   ]
  },
  {
   "cell_type": "code",
   "execution_count": 122,
   "id": "67922e41",
   "metadata": {},
   "outputs": [
    {
     "name": "stdout",
     "output_type": "stream",
     "text": [
      "exp: 71094348791151363024389554286420996798449\n"
     ]
    }
   ],
   "source": [
    "print('exp:',a**b)"
   ]
  },
  {
   "cell_type": "markdown",
   "id": "d17e8ec1",
   "metadata": {},
   "source": [
    "Comparison Operators"
   ]
  },
  {
   "cell_type": "code",
   "execution_count": 128,
   "id": "10d83f7e",
   "metadata": {},
   "outputs": [
    {
     "name": "stdout",
     "output_type": "stream",
     "text": [
      "True\n"
     ]
    }
   ],
   "source": [
    "print(2==2)"
   ]
  },
  {
   "cell_type": "code",
   "execution_count": 129,
   "id": "c4377018",
   "metadata": {},
   "outputs": [
    {
     "data": {
      "text/plain": [
       "False"
      ]
     },
     "execution_count": 129,
     "metadata": {},
     "output_type": "execute_result"
    }
   ],
   "source": [
    "2!=2"
   ]
  },
  {
   "cell_type": "code",
   "execution_count": 130,
   "id": "6c99e7eb",
   "metadata": {},
   "outputs": [
    {
     "data": {
      "text/plain": [
       "False"
      ]
     },
     "execution_count": 130,
     "metadata": {},
     "output_type": "execute_result"
    }
   ],
   "source": [
    "3>4"
   ]
  },
  {
   "cell_type": "code",
   "execution_count": 131,
   "id": "0d3a1cc3",
   "metadata": {},
   "outputs": [
    {
     "data": {
      "text/plain": [
       "True"
      ]
     },
     "execution_count": 131,
     "metadata": {},
     "output_type": "execute_result"
    }
   ],
   "source": [
    "3<4"
   ]
  },
  {
   "cell_type": "code",
   "execution_count": 132,
   "id": "187e808d",
   "metadata": {},
   "outputs": [
    {
     "data": {
      "text/plain": [
       "False"
      ]
     },
     "execution_count": 132,
     "metadata": {},
     "output_type": "execute_result"
    }
   ],
   "source": [
    "3>=4"
   ]
  },
  {
   "cell_type": "code",
   "execution_count": 133,
   "id": "f8e69b8a",
   "metadata": {},
   "outputs": [
    {
     "data": {
      "text/plain": [
       "True"
      ]
     },
     "execution_count": 133,
     "metadata": {},
     "output_type": "execute_result"
    }
   ],
   "source": [
    "3<=4"
   ]
  },
  {
   "cell_type": "markdown",
   "id": "364e4b11",
   "metadata": {},
   "source": [
    "Logical Operators"
   ]
  },
  {
   "cell_type": "code",
   "execution_count": 138,
   "id": "2c973674",
   "metadata": {},
   "outputs": [
    {
     "data": {
      "text/plain": [
       "False"
      ]
     },
     "execution_count": 138,
     "metadata": {},
     "output_type": "execute_result"
    }
   ],
   "source": [
    "#and\n",
    "2==2 and 2<3 and 2>3"
   ]
  },
  {
   "cell_type": "code",
   "execution_count": 139,
   "id": "81809c8c",
   "metadata": {},
   "outputs": [
    {
     "data": {
      "text/plain": [
       "True"
      ]
     },
     "execution_count": 139,
     "metadata": {},
     "output_type": "execute_result"
    }
   ],
   "source": [
    "#or\n",
    "2==2 or 2>3 or 2<5"
   ]
  },
  {
   "cell_type": "code",
   "execution_count": 142,
   "id": "0b9168a0",
   "metadata": {},
   "outputs": [
    {
     "name": "stdout",
     "output_type": "stream",
     "text": [
      "True\n",
      "False\n"
     ]
    }
   ],
   "source": [
    "print(not(2==2 and 2<3 and 2>3))\n",
    "print(not(2==2 or 2>3 or 2<5))"
   ]
  },
  {
   "cell_type": "markdown",
   "id": "7f97a858",
   "metadata": {},
   "source": [
    "identity operators"
   ]
  },
  {
   "cell_type": "code",
   "execution_count": 145,
   "id": "b0e61213",
   "metadata": {},
   "outputs": [
    {
     "name": "stdout",
     "output_type": "stream",
     "text": [
      "enter your num:12\n",
      "enter your num:23\n",
      "False\n",
      "True\n"
     ]
    }
   ],
   "source": [
    "#is \n",
    "x=int(input('enter your num:'))\n",
    "y=int(input('enter your num:'))\n",
    "print(x is y)\n",
    "print(x is not y)"
   ]
  },
  {
   "cell_type": "code",
   "execution_count": null,
   "id": "a2617f45",
   "metadata": {},
   "outputs": [],
   "source": []
  }
 ],
 "metadata": {
  "kernelspec": {
   "display_name": "Python 3 (ipykernel)",
   "language": "python",
   "name": "python3"
  },
  "language_info": {
   "codemirror_mode": {
    "name": "ipython",
    "version": 3
   },
   "file_extension": ".py",
   "mimetype": "text/x-python",
   "name": "python",
   "nbconvert_exporter": "python",
   "pygments_lexer": "ipython3",
   "version": "3.9.7"
  }
 },
 "nbformat": 4,
 "nbformat_minor": 5
}
