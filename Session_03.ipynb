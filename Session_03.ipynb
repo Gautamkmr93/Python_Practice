{
 "cells": [
  {
   "cell_type": "markdown",
   "id": "c3b8c7de",
   "metadata": {},
   "source": [
    "## Operators"
   ]
  },
  {
   "cell_type": "markdown",
   "id": "a7330945",
   "metadata": {},
   "source": [
    "MemberShip Operators"
   ]
  },
  {
   "cell_type": "markdown",
   "id": "f32483f0",
   "metadata": {},
   "source": [
    "1.Arithmetic\n",
    "2.Assignmets\n",
    "3.Comparison\n",
    "4.logical\n",
    "5.Identity\n",
    "6.Membership\n",
    "7.BitWise"
   ]
  },
  {
   "cell_type": "code",
   "execution_count": 1,
   "id": "f55db86a",
   "metadata": {},
   "outputs": [
    {
     "name": "stdout",
     "output_type": "stream",
     "text": [
      "False\n"
     ]
    }
   ],
   "source": [
    "#Membership(in)\n",
    "x=['Gautam','Kunal','rohan']\n",
    "print(\"Kumar\" in x)"
   ]
  },
  {
   "cell_type": "code",
   "execution_count": 2,
   "id": "fe5c6ad0",
   "metadata": {},
   "outputs": [
    {
     "name": "stdout",
     "output_type": "stream",
     "text": [
      "True\n"
     ]
    }
   ],
   "source": [
    "#Membership(not in)\n",
    "print(\"shyam\" not in x)"
   ]
  },
  {
   "cell_type": "markdown",
   "id": "701e436c",
   "metadata": {},
   "source": [
    "Bitwise Operators"
   ]
  },
  {
   "cell_type": "code",
   "execution_count": 3,
   "id": "b56ee83e",
   "metadata": {},
   "outputs": [
    {
     "name": "stdout",
     "output_type": "stream",
     "text": [
      "1981634814832\n"
     ]
    }
   ],
   "source": [
    "var1=\"shyam\"\n",
    "print(id(var1))"
   ]
  },
  {
   "cell_type": "markdown",
   "id": "61316c4c",
   "metadata": {},
   "source": [
    "Conditional Statements"
   ]
  },
  {
   "cell_type": "markdown",
   "id": "5a6e7d36",
   "metadata": {},
   "source": [
    "if():\n",
    "    print()\n",
    "elif:\n",
    "    print()\n",
    "else:\n",
    "    print()"
   ]
  },
  {
   "cell_type": "markdown",
   "id": "ac83f823",
   "metadata": {},
   "source": [
    "find out the odd and even"
   ]
  },
  {
   "cell_type": "code",
   "execution_count": 4,
   "id": "0e0e8b77",
   "metadata": {},
   "outputs": [
    {
     "name": "stdout",
     "output_type": "stream",
     "text": [
      "Enter your Number to check : 23\n",
      "Given number is  odd 23\n"
     ]
    }
   ],
   "source": [
    "N=int(input(\"Enter your Number to check : \"))\n",
    "if (N%2==0):\n",
    "    print(\"given number is  even\",N)\n",
    "else:\n",
    "    print(\"Given number is  odd\",N)"
   ]
  },
  {
   "cell_type": "code",
   "execution_count": 5,
   "id": "99b076e5",
   "metadata": {},
   "outputs": [
    {
     "name": "stdout",
     "output_type": "stream",
     "text": [
      "Enter your values for A : 23\n",
      "Enter your Values for B : 23\n",
      "values of a is   23\n"
     ]
    }
   ],
   "source": [
    "a=int(input(\"Enter your values for A : \"))\n",
    "b=int(input(\"Enter your Values for B : \"))\n",
    "if a>b:\n",
    "    print('sum',a+b)\n",
    "elif a<b:\n",
    "    print('subtraction',a-b)\n",
    "else:\n",
    "    print('values of a is  ',a)"
   ]
  },
  {
   "cell_type": "code",
   "execution_count": 6,
   "id": "c4f5d277",
   "metadata": {},
   "outputs": [
    {
     "name": "stdout",
     "output_type": "stream",
     "text": [
      "Enter your values for A : 32\n",
      "Enter your Values for B : 32\n",
      "subtraction 0\n"
     ]
    }
   ],
   "source": [
    "a=int(input(\"Enter your values for A : \"))\n",
    "b=int(input(\"Enter your Values for B : \"))\n",
    "if a>b:\n",
    "    print('sum',a+b)\n",
    "else:\n",
    "    print('subtraction',a-b)"
   ]
  },
  {
   "cell_type": "code",
   "execution_count": 7,
   "id": "8dcde157",
   "metadata": {},
   "outputs": [
    {
     "name": "stdout",
     "output_type": "stream",
     "text": [
      "Enter your values for A : 22\n",
      "Enter your Values for B : 34\n",
      "subtraction -12\n"
     ]
    }
   ],
   "source": [
    "a=int(input(\"Enter your values for A : \"))\n",
    "b=int(input(\"Enter your Values for B : \"))\n",
    "print(\"sum\",a+b) if a>b else print(\"subtraction\",a-b)"
   ]
  },
  {
   "cell_type": "markdown",
   "id": "56e7d169",
   "metadata": {},
   "source": [
    "# While Loop"
   ]
  },
  {
   "cell_type": "markdown",
   "id": "a217c9fe",
   "metadata": {},
   "source": [
    "while loop we can execute a set of statement as long as a condition is True"
   ]
  },
  {
   "cell_type": "code",
   "execution_count": 8,
   "id": "86279c12",
   "metadata": {},
   "outputs": [
    {
     "name": "stdout",
     "output_type": "stream",
     "text": [
      "1\n",
      "my Name\n",
      "2\n",
      "my Name\n",
      "3\n",
      "my Name\n",
      "4\n",
      "my Name\n",
      "5\n",
      "my Name\n",
      "6\n",
      "my Name\n",
      "7\n",
      "my Name\n",
      "8\n",
      "my Name\n",
      "9\n",
      "my Name\n",
      "operation completed\n"
     ]
    }
   ],
   "source": [
    "i=1\n",
    "while i<10:\n",
    "    print(i)\n",
    "    print('my Name')\n",
    "    i=i+1\n",
    "print('operation completed')"
   ]
  },
  {
   "cell_type": "code",
   "execution_count": 9,
   "id": "bf2b65ce",
   "metadata": {},
   "outputs": [
    {
     "name": "stdout",
     "output_type": "stream",
     "text": [
      "1\n",
      "my Name\n",
      "2\n",
      "my Name\n",
      "3\n",
      "my Name\n",
      "4\n",
      "my Name\n",
      "5\n",
      "my Name\n",
      "6\n",
      "my Name\n",
      "operation completed\n"
     ]
    }
   ],
   "source": [
    "#with Break Condition\n",
    "i=1\n",
    "while i<10:\n",
    "    print(i)\n",
    "    print('my Name')\n",
    "    if i==6:\n",
    "        break\n",
    "    i=i+1\n",
    "print('operation completed')"
   ]
  },
  {
   "cell_type": "code",
   "execution_count": 14,
   "id": "fedb2cf4",
   "metadata": {},
   "outputs": [
    {
     "name": "stdout",
     "output_type": "stream",
     "text": [
      "1\n",
      "2\n",
      "3\n",
      "4\n",
      "5\n",
      "7\n",
      "8\n",
      "9\n",
      "operation completed\n"
     ]
    }
   ],
   "source": [
    "#with continue Condition\n",
    "i=0\n",
    "while i<9:\n",
    "    i=i+1\n",
    "    if i == 6:\n",
    "        continue\n",
    "    print(i)\n",
    "print('operation completed')"
   ]
  },
  {
   "cell_type": "markdown",
   "id": "0195d75f",
   "metadata": {},
   "source": [
    "## For Loop"
   ]
  },
  {
   "cell_type": "markdown",
   "id": "a1f39359",
   "metadata": {},
   "source": [
    "For Loop is getting used for iterating over a sequence(List,tuple,Range, Dict,set)"
   ]
  },
  {
   "cell_type": "code",
   "execution_count": 16,
   "id": "d06b953a",
   "metadata": {},
   "outputs": [],
   "source": [
    "fruits=[\"Apple\",\"Kiwi\",\"mango\",\"Orange\"]"
   ]
  },
  {
   "cell_type": "code",
   "execution_count": 18,
   "id": "4d6e6c86",
   "metadata": {},
   "outputs": [
    {
     "data": {
      "text/plain": [
       "list"
      ]
     },
     "execution_count": 18,
     "metadata": {},
     "output_type": "execute_result"
    }
   ],
   "source": [
    "type(fruits)"
   ]
  },
  {
   "cell_type": "code",
   "execution_count": 19,
   "id": "bf604470",
   "metadata": {},
   "outputs": [
    {
     "name": "stdout",
     "output_type": "stream",
     "text": [
      "Apple\n",
      "A apple a Day keep Doc away\n",
      "Kiwi\n",
      "Operation Completed\n",
      "mango\n",
      "Operation Completed\n",
      "Orange\n",
      "Operation Completed\n"
     ]
    }
   ],
   "source": [
    "for i in fruits:\n",
    "    print(i)\n",
    "    if (i==\"Apple\"):\n",
    "        print(\"A apple a Day keep Doc away\")\n",
    "    else:\n",
    "        print('Operation Completed')"
   ]
  },
  {
   "cell_type": "code",
   "execution_count": 26,
   "id": "e65a1723",
   "metadata": {},
   "outputs": [
    {
     "name": "stdout",
     "output_type": "stream",
     "text": [
      "0\n",
      "1\n",
      "2\n",
      "3\n",
      "4\n"
     ]
    }
   ],
   "source": [
    "for i in range(10):\n",
    "    print(i)\n",
    "    if i==4:\n",
    "        break"
   ]
  },
  {
   "cell_type": "code",
   "execution_count": null,
   "id": "342bb7df",
   "metadata": {},
   "outputs": [],
   "source": []
  }
 ],
 "metadata": {
  "kernelspec": {
   "display_name": "Python 3 (ipykernel)",
   "language": "python",
   "name": "python3"
  },
  "language_info": {
   "codemirror_mode": {
    "name": "ipython",
    "version": 3
   },
   "file_extension": ".py",
   "mimetype": "text/x-python",
   "name": "python",
   "nbconvert_exporter": "python",
   "pygments_lexer": "ipython3",
   "version": "3.9.7"
  }
 },
 "nbformat": 4,
 "nbformat_minor": 5
}
