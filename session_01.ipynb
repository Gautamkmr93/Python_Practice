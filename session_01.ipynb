{
 "cells": [
  {
   "cell_type": "markdown",
   "id": "93ad3537",
   "metadata": {},
   "source": [
    "# String & its Operations\n",
    "Tuple & its Operations\n",
    "List & its Operations\n",
    "Set & its Operations\n",
    "Dictionary & its Operations\n",
    "Operators\n",
    "Conditional Statements\n",
    "Exception Handling\n"
   ]
  },
  {
   "cell_type": "markdown",
   "id": "386aa512",
   "metadata": {},
   "source": [
    "# Strings is nothing but surrounded by \"\" or single quote"
   ]
  },
  {
   "cell_type": "code",
   "execution_count": 2,
   "id": "a7818eb4",
   "metadata": {},
   "outputs": [
    {
     "data": {
      "text/plain": [
       "'r'"
      ]
     },
     "execution_count": 2,
     "metadata": {},
     "output_type": "execute_result"
    }
   ],
   "source": [
    "\"r\""
   ]
  },
  {
   "cell_type": "code",
   "execution_count": 3,
   "id": "57802aee",
   "metadata": {},
   "outputs": [
    {
     "data": {
      "text/plain": [
       "str"
      ]
     },
     "execution_count": 3,
     "metadata": {},
     "output_type": "execute_result"
    }
   ],
   "source": [
    "type(\"r\")"
   ]
  },
  {
   "cell_type": "code",
   "execution_count": 5,
   "id": "0d86699b",
   "metadata": {},
   "outputs": [
    {
     "data": {
      "text/plain": [
       "str"
      ]
     },
     "execution_count": 5,
     "metadata": {},
     "output_type": "execute_result"
    }
   ],
   "source": [
    "a='123456'\n",
    "type(a)"
   ]
  },
  {
   "cell_type": "code",
   "execution_count": 6,
   "id": "49e80426",
   "metadata": {},
   "outputs": [],
   "source": [
    "messages='Welcome to python class'"
   ]
  },
  {
   "cell_type": "code",
   "execution_count": 8,
   "id": "abaaf362",
   "metadata": {},
   "outputs": [
    {
     "name": "stdout",
     "output_type": "stream",
     "text": [
      "Welcome to python class\n"
     ]
    }
   ],
   "source": [
    "print(messages)"
   ]
  },
  {
   "cell_type": "code",
   "execution_count": 9,
   "id": "e2a4fc66",
   "metadata": {},
   "outputs": [
    {
     "name": "stdout",
     "output_type": "stream",
     "text": [
      "<class 'str'>\n"
     ]
    }
   ],
   "source": [
    "print(type(messages))"
   ]
  },
  {
   "cell_type": "markdown",
   "id": "d297b9c9",
   "metadata": {},
   "source": [
    "str slicing"
   ]
  },
  {
   "cell_type": "code",
   "execution_count": 10,
   "id": "797bfc3c",
   "metadata": {},
   "outputs": [
    {
     "data": {
      "text/plain": [
       "str"
      ]
     },
     "execution_count": 10,
     "metadata": {},
     "output_type": "execute_result"
    }
   ],
   "source": [
    "word=\"python class\"\n",
    "type(word)"
   ]
  },
  {
   "cell_type": "code",
   "execution_count": 13,
   "id": "7fca18b9",
   "metadata": {},
   "outputs": [
    {
     "data": {
      "text/plain": [
       "'thon class'"
      ]
     },
     "execution_count": 13,
     "metadata": {},
     "output_type": "execute_result"
    }
   ],
   "source": [
    "word[2:12]"
   ]
  },
  {
   "cell_type": "code",
   "execution_count": 14,
   "id": "d72885b4",
   "metadata": {},
   "outputs": [
    {
     "data": {
      "text/plain": [
       "'class'"
      ]
     },
     "execution_count": 14,
     "metadata": {},
     "output_type": "execute_result"
    }
   ],
   "source": [
    "word[7:12]"
   ]
  },
  {
   "cell_type": "code",
   "execution_count": 17,
   "id": "d010dabe",
   "metadata": {},
   "outputs": [
    {
     "data": {
      "text/plain": [
       "'clas'"
      ]
     },
     "execution_count": 17,
     "metadata": {},
     "output_type": "execute_result"
    }
   ],
   "source": [
    "word[7:-1]"
   ]
  },
  {
   "cell_type": "markdown",
   "id": "9f965c15",
   "metadata": {},
   "source": [
    "modify"
   ]
  },
  {
   "cell_type": "code",
   "execution_count": 18,
   "id": "9ff70dc6",
   "metadata": {},
   "outputs": [
    {
     "data": {
      "text/plain": [
       "'PYTHON CLASS'"
      ]
     },
     "execution_count": 18,
     "metadata": {},
     "output_type": "execute_result"
    }
   ],
   "source": [
    "word.upper()"
   ]
  },
  {
   "cell_type": "code",
   "execution_count": 19,
   "id": "5bf6b445",
   "metadata": {},
   "outputs": [
    {
     "data": {
      "text/plain": [
       "'python class'"
      ]
     },
     "execution_count": 19,
     "metadata": {},
     "output_type": "execute_result"
    }
   ],
   "source": [
    "word.lower()"
   ]
  },
  {
   "cell_type": "code",
   "execution_count": 20,
   "id": "b03e63f2",
   "metadata": {},
   "outputs": [
    {
     "data": {
      "text/plain": [
       "'python'"
      ]
     },
     "execution_count": 20,
     "metadata": {},
     "output_type": "execute_result"
    }
   ],
   "source": [
    "word1='PYTHON'\n",
    "word1.lower()"
   ]
  },
  {
   "cell_type": "markdown",
   "id": "d8e62c91",
   "metadata": {},
   "source": [
    "white space removing"
   ]
  },
  {
   "cell_type": "code",
   "execution_count": 25,
   "id": "514032a2",
   "metadata": {},
   "outputs": [],
   "source": [
    "word2=\"    Python\""
   ]
  },
  {
   "cell_type": "code",
   "execution_count": 26,
   "id": "fb5bad28",
   "metadata": {},
   "outputs": [
    {
     "data": {
      "text/plain": [
       "'Python'"
      ]
     },
     "execution_count": 26,
     "metadata": {},
     "output_type": "execute_result"
    }
   ],
   "source": [
    "word2.strip()"
   ]
  },
  {
   "cell_type": "markdown",
   "id": "1ef50e15",
   "metadata": {},
   "source": [
    "replacing values in Str"
   ]
  },
  {
   "cell_type": "code",
   "execution_count": 30,
   "id": "5dfe4927",
   "metadata": {},
   "outputs": [
    {
     "data": {
      "text/plain": [
       "'    PyGhon'"
      ]
     },
     "execution_count": 30,
     "metadata": {},
     "output_type": "execute_result"
    }
   ],
   "source": [
    "word2.replace(\"t\",\"G\")"
   ]
  },
  {
   "cell_type": "code",
   "execution_count": 32,
   "id": "5a950bca",
   "metadata": {},
   "outputs": [
    {
     "data": {
      "text/plain": [
       "'    PyGhon'"
      ]
     },
     "execution_count": 32,
     "metadata": {},
     "output_type": "execute_result"
    }
   ],
   "source": [
    "p_word=word2.replace(\"t\",\"G\")\n",
    "p_word"
   ]
  },
  {
   "cell_type": "code",
   "execution_count": 33,
   "id": "9de1aa5d",
   "metadata": {},
   "outputs": [],
   "source": [
    "para=\"good evening, welcome to python class !\""
   ]
  },
  {
   "cell_type": "code",
   "execution_count": 39,
   "id": "99facb90",
   "metadata": {},
   "outputs": [],
   "source": [
    "para1=\"good: evening:, welcome: to: python class !\""
   ]
  },
  {
   "cell_type": "code",
   "execution_count": 36,
   "id": "df28f153",
   "metadata": {},
   "outputs": [
    {
     "data": {
      "text/plain": [
       "['good evening', ' welcome to python class !']"
      ]
     },
     "execution_count": 36,
     "metadata": {},
     "output_type": "execute_result"
    }
   ],
   "source": [
    "para.split(\",\")"
   ]
  },
  {
   "cell_type": "code",
   "execution_count": 37,
   "id": "911b08d0",
   "metadata": {},
   "outputs": [
    {
     "data": {
      "text/plain": [
       "['good', 'evening,', 'welcome', 'to', 'python', 'class', '!']"
      ]
     },
     "execution_count": 37,
     "metadata": {},
     "output_type": "execute_result"
    }
   ],
   "source": [
    "para.split(\" \")"
   ]
  },
  {
   "cell_type": "code",
   "execution_count": 40,
   "id": "c11a107b",
   "metadata": {},
   "outputs": [
    {
     "data": {
      "text/plain": [
       "['good', ' evening', ', welcome', ' to', ' python class !']"
      ]
     },
     "execution_count": 40,
     "metadata": {},
     "output_type": "execute_result"
    }
   ],
   "source": [
    "para1.split(\":\")"
   ]
  },
  {
   "cell_type": "markdown",
   "id": "a6750819",
   "metadata": {},
   "source": [
    "# concatenation"
   ]
  },
  {
   "cell_type": "code",
   "execution_count": 45,
   "id": "8bbdca96",
   "metadata": {},
   "outputs": [
    {
     "data": {
      "text/plain": [
       "'Hello Guys Welcome To Python Class'"
      ]
     },
     "execution_count": 45,
     "metadata": {},
     "output_type": "execute_result"
    }
   ],
   "source": [
    "W1=\"Hello\"\n",
    "W2=\"Guys\"\n",
    "W3=\"Welcome\"\n",
    "W4=\"To\"\n",
    "W5=\"Python\"\n",
    "W6=\"Class\"\n",
    "W1+\" \"+W2+\" \"+W3+\" \"+W4+\" \"+W5+\" \"+W6"
   ]
  },
  {
   "cell_type": "code",
   "execution_count": 46,
   "id": "250b601a",
   "metadata": {},
   "outputs": [
    {
     "data": {
      "text/plain": [
       "'Hello'"
      ]
     },
     "execution_count": 46,
     "metadata": {},
     "output_type": "execute_result"
    }
   ],
   "source": [
    "W1=\"hello\"\n",
    "W1.capitalize()"
   ]
  },
  {
   "cell_type": "code",
   "execution_count": 47,
   "id": "9ecc4ad9",
   "metadata": {},
   "outputs": [
    {
     "data": {
      "text/plain": [
       "2"
      ]
     },
     "execution_count": 47,
     "metadata": {},
     "output_type": "execute_result"
    }
   ],
   "source": [
    "W1.find('l')"
   ]
  },
  {
   "cell_type": "code",
   "execution_count": 48,
   "id": "9125e306",
   "metadata": {},
   "outputs": [
    {
     "data": {
      "text/plain": [
       "1"
      ]
     },
     "execution_count": 48,
     "metadata": {},
     "output_type": "execute_result"
    }
   ],
   "source": [
    "W1.find('e')"
   ]
  },
  {
   "cell_type": "code",
   "execution_count": 49,
   "id": "43dc40ff",
   "metadata": {},
   "outputs": [
    {
     "data": {
      "text/plain": [
       "False"
      ]
     },
     "execution_count": 49,
     "metadata": {},
     "output_type": "execute_result"
    }
   ],
   "source": [
    "W1.isdigit()"
   ]
  },
  {
   "cell_type": "code",
   "execution_count": 53,
   "id": "b437ff10",
   "metadata": {},
   "outputs": [
    {
     "data": {
      "text/plain": [
       "False"
      ]
     },
     "execution_count": 53,
     "metadata": {},
     "output_type": "execute_result"
    }
   ],
   "source": [
    "W7=\"Hello007\"\n",
    "W7.isdigit()"
   ]
  },
  {
   "cell_type": "code",
   "execution_count": 54,
   "id": "9b62e668",
   "metadata": {},
   "outputs": [
    {
     "data": {
      "text/plain": [
       "18"
      ]
     },
     "execution_count": 54,
     "metadata": {},
     "output_type": "execute_result"
    }
   ],
   "source": [
    "w9=\"Hello Gautam Kumar\"\n",
    "len(w9)"
   ]
  },
  {
   "cell_type": "markdown",
   "id": "e9226e23",
   "metadata": {},
   "source": [
    "# Tuple"
   ]
  },
  {
   "cell_type": "code",
   "execution_count": 56,
   "id": "23999319",
   "metadata": {},
   "outputs": [],
   "source": [
    "mytuple1=(\"Apple\",\"mango\",\"orange\",1,2,3,4, True,False)"
   ]
  },
  {
   "cell_type": "code",
   "execution_count": 57,
   "id": "94fc9714",
   "metadata": {},
   "outputs": [
    {
     "data": {
      "text/plain": [
       "('Apple', 'mango', 'orange', 1, 2, 3, 4, True, False)"
      ]
     },
     "execution_count": 57,
     "metadata": {},
     "output_type": "execute_result"
    }
   ],
   "source": [
    "mytuple1"
   ]
  },
  {
   "cell_type": "code",
   "execution_count": 90,
   "id": "cd0575b0",
   "metadata": {},
   "outputs": [
    {
     "data": {
      "text/plain": [
       "tuple"
      ]
     },
     "execution_count": 90,
     "metadata": {},
     "output_type": "execute_result"
    }
   ],
   "source": [
    "type(mytuple1)"
   ]
  },
  {
   "cell_type": "code",
   "execution_count": 60,
   "id": "ddf77b0e",
   "metadata": {},
   "outputs": [
    {
     "data": {
      "text/plain": [
       "('Apple', 'mango', 'orange', 1, 2, 3, 4)"
      ]
     },
     "execution_count": 60,
     "metadata": {},
     "output_type": "execute_result"
    }
   ],
   "source": [
    "mytuple1[0:7]"
   ]
  },
  {
   "cell_type": "code",
   "execution_count": 61,
   "id": "8f0801b7",
   "metadata": {},
   "outputs": [],
   "source": [
    "t=list(mytuple1)"
   ]
  },
  {
   "cell_type": "code",
   "execution_count": 62,
   "id": "d4444d07",
   "metadata": {},
   "outputs": [
    {
     "data": {
      "text/plain": [
       "tuple"
      ]
     },
     "execution_count": 62,
     "metadata": {},
     "output_type": "execute_result"
    }
   ],
   "source": [
    "type(mytuple1)"
   ]
  },
  {
   "cell_type": "code",
   "execution_count": 63,
   "id": "fffca5ca",
   "metadata": {},
   "outputs": [
    {
     "data": {
      "text/plain": [
       "list"
      ]
     },
     "execution_count": 63,
     "metadata": {},
     "output_type": "execute_result"
    }
   ],
   "source": [
    "type(t)"
   ]
  },
  {
   "cell_type": "code",
   "execution_count": 64,
   "id": "e34576d3",
   "metadata": {},
   "outputs": [],
   "source": [
    "t[2]=\"kiwi\""
   ]
  },
  {
   "cell_type": "code",
   "execution_count": 65,
   "id": "7b570d0c",
   "metadata": {},
   "outputs": [
    {
     "data": {
      "text/plain": [
       "['Apple', 'mango', 'kiwi', 1, 2, 3, 4, True, False]"
      ]
     },
     "execution_count": 65,
     "metadata": {},
     "output_type": "execute_result"
    }
   ],
   "source": [
    "t"
   ]
  },
  {
   "cell_type": "code",
   "execution_count": 66,
   "id": "6850c84d",
   "metadata": {},
   "outputs": [
    {
     "data": {
      "text/plain": [
       "list"
      ]
     },
     "execution_count": 66,
     "metadata": {},
     "output_type": "execute_result"
    }
   ],
   "source": [
    "type(t)"
   ]
  },
  {
   "cell_type": "code",
   "execution_count": 67,
   "id": "27eac261",
   "metadata": {},
   "outputs": [],
   "source": [
    "mytuple1=tuple(t)"
   ]
  },
  {
   "cell_type": "code",
   "execution_count": 68,
   "id": "b551a259",
   "metadata": {},
   "outputs": [
    {
     "data": {
      "text/plain": [
       "('Apple', 'mango', 'kiwi', 1, 2, 3, 4, True, False)"
      ]
     },
     "execution_count": 68,
     "metadata": {},
     "output_type": "execute_result"
    }
   ],
   "source": [
    "mytuple1"
   ]
  },
  {
   "cell_type": "code",
   "execution_count": 69,
   "id": "63aca81c",
   "metadata": {},
   "outputs": [
    {
     "data": {
      "text/plain": [
       "9"
      ]
     },
     "execution_count": 69,
     "metadata": {},
     "output_type": "execute_result"
    }
   ],
   "source": [
    "len(mytuple1)"
   ]
  },
  {
   "cell_type": "code",
   "execution_count": 77,
   "id": "00d71259",
   "metadata": {},
   "outputs": [
    {
     "data": {
      "text/plain": [
       "1"
      ]
     },
     "execution_count": 77,
     "metadata": {},
     "output_type": "execute_result"
    }
   ],
   "source": [
    "mytuple1.count(\"Apple\")"
   ]
  },
  {
   "cell_type": "code",
   "execution_count": 78,
   "id": "306dbdb3",
   "metadata": {},
   "outputs": [
    {
     "data": {
      "text/plain": [
       "2"
      ]
     },
     "execution_count": 78,
     "metadata": {},
     "output_type": "execute_result"
    }
   ],
   "source": [
    "mytuple1.index('kiwi')"
   ]
  },
  {
   "cell_type": "code",
   "execution_count": 147,
   "id": "e6d7ae52",
   "metadata": {},
   "outputs": [],
   "source": [
    "del mytuple1"
   ]
  },
  {
   "cell_type": "markdown",
   "id": "48d088c3",
   "metadata": {},
   "source": [
    "# List"
   ]
  },
  {
   "cell_type": "code",
   "execution_count": 149,
   "id": "2e485b1e",
   "metadata": {},
   "outputs": [],
   "source": [
    "mylist=['Apple', 'mango', 'kiwi', 1, 2, 3, 4, True, False]"
   ]
  },
  {
   "cell_type": "code",
   "execution_count": 150,
   "id": "1f4203ac",
   "metadata": {},
   "outputs": [
    {
     "data": {
      "text/plain": [
       "list"
      ]
     },
     "execution_count": 150,
     "metadata": {},
     "output_type": "execute_result"
    }
   ],
   "source": [
    "type(mylist)"
   ]
  },
  {
   "cell_type": "code",
   "execution_count": 151,
   "id": "9ff9c320",
   "metadata": {},
   "outputs": [
    {
     "data": {
      "text/plain": [
       "['Apple', 'mango', 'kiwi', 1, 2, 3, 4, True, False]"
      ]
     },
     "execution_count": 151,
     "metadata": {},
     "output_type": "execute_result"
    }
   ],
   "source": [
    "mylist"
   ]
  },
  {
   "cell_type": "code",
   "execution_count": 152,
   "id": "8309102a",
   "metadata": {},
   "outputs": [
    {
     "data": {
      "text/plain": [
       "9"
      ]
     },
     "execution_count": 152,
     "metadata": {},
     "output_type": "execute_result"
    }
   ],
   "source": [
    "len(mylist)"
   ]
  },
  {
   "cell_type": "code",
   "execution_count": 153,
   "id": "3ccde95d",
   "metadata": {},
   "outputs": [
    {
     "data": {
      "text/plain": [
       "2"
      ]
     },
     "execution_count": 153,
     "metadata": {},
     "output_type": "execute_result"
    }
   ],
   "source": [
    "mylist.index(\"kiwi\")"
   ]
  },
  {
   "cell_type": "code",
   "execution_count": 154,
   "id": "ac2d804a",
   "metadata": {},
   "outputs": [
    {
     "data": {
      "text/plain": [
       "True"
      ]
     },
     "execution_count": 154,
     "metadata": {},
     "output_type": "execute_result"
    }
   ],
   "source": [
    "mylist[-2]"
   ]
  },
  {
   "cell_type": "code",
   "execution_count": 155,
   "id": "26aa4fa0",
   "metadata": {},
   "outputs": [
    {
     "data": {
      "text/plain": [
       "True"
      ]
     },
     "execution_count": 155,
     "metadata": {},
     "output_type": "execute_result"
    }
   ],
   "source": [
    "mylist[7]"
   ]
  },
  {
   "cell_type": "code",
   "execution_count": 156,
   "id": "4d093ec6",
   "metadata": {},
   "outputs": [
    {
     "data": {
      "text/plain": [
       "['mango', 'kiwi', 1, 2, 3, 4, True, False]"
      ]
     },
     "execution_count": 156,
     "metadata": {},
     "output_type": "execute_result"
    }
   ],
   "source": [
    "mylist[1:]"
   ]
  },
  {
   "cell_type": "code",
   "execution_count": 157,
   "id": "d75e4bca",
   "metadata": {},
   "outputs": [
    {
     "data": {
      "text/plain": [
       "['mango', 'kiwi', 1, 2, 3, 4]"
      ]
     },
     "execution_count": 157,
     "metadata": {},
     "output_type": "execute_result"
    }
   ],
   "source": [
    "mylist[1:7]"
   ]
  },
  {
   "cell_type": "code",
   "execution_count": 158,
   "id": "f2122847",
   "metadata": {},
   "outputs": [
    {
     "data": {
      "text/plain": [
       "'Apple'"
      ]
     },
     "execution_count": 158,
     "metadata": {},
     "output_type": "execute_result"
    }
   ],
   "source": [
    "mylist[False]"
   ]
  },
  {
   "cell_type": "code",
   "execution_count": 159,
   "id": "f75119f8",
   "metadata": {},
   "outputs": [
    {
     "data": {
      "text/plain": [
       "['Apple', 'mango', 'kiwi', 1, 2, 3, 4, True, False]"
      ]
     },
     "execution_count": 159,
     "metadata": {},
     "output_type": "execute_result"
    }
   ],
   "source": [
    "mylist"
   ]
  },
  {
   "cell_type": "code",
   "execution_count": 160,
   "id": "612c77d1",
   "metadata": {},
   "outputs": [],
   "source": [
    "mylist[2]='orange'"
   ]
  },
  {
   "cell_type": "code",
   "execution_count": 161,
   "id": "dae3da0e",
   "metadata": {},
   "outputs": [
    {
     "data": {
      "text/plain": [
       "['Apple', 'mango', 'orange', 1, 2, 3, 4, True, False]"
      ]
     },
     "execution_count": 161,
     "metadata": {},
     "output_type": "execute_result"
    }
   ],
   "source": [
    "mylist"
   ]
  },
  {
   "cell_type": "code",
   "execution_count": 162,
   "id": "a4e4c6e7",
   "metadata": {},
   "outputs": [],
   "source": [
    "mylist[3:7]=[6,7,8,9]"
   ]
  },
  {
   "cell_type": "code",
   "execution_count": 163,
   "id": "23397259",
   "metadata": {},
   "outputs": [
    {
     "data": {
      "text/plain": [
       "['Apple', 'mango', 'orange', 6, 7, 8, 9, True, False]"
      ]
     },
     "execution_count": 163,
     "metadata": {},
     "output_type": "execute_result"
    }
   ],
   "source": [
    "mylist"
   ]
  },
  {
   "cell_type": "code",
   "execution_count": 164,
   "id": "4c4a4c9c",
   "metadata": {},
   "outputs": [],
   "source": [
    "mylist.append('kiwi')"
   ]
  },
  {
   "cell_type": "code",
   "execution_count": 165,
   "id": "fa50c3d9",
   "metadata": {},
   "outputs": [
    {
     "data": {
      "text/plain": [
       "['Apple', 'mango', 'orange', 6, 7, 8, 9, True, False, 'kiwi']"
      ]
     },
     "execution_count": 165,
     "metadata": {},
     "output_type": "execute_result"
    }
   ],
   "source": [
    "mylist"
   ]
  },
  {
   "cell_type": "code",
   "execution_count": 166,
   "id": "647f1c58",
   "metadata": {},
   "outputs": [],
   "source": [
    "mylist.insert(1,'kiwi')"
   ]
  },
  {
   "cell_type": "code",
   "execution_count": 167,
   "id": "c675a8fd",
   "metadata": {},
   "outputs": [
    {
     "data": {
      "text/plain": [
       "['Apple', 'kiwi', 'mango', 'orange', 6, 7, 8, 9, True, False, 'kiwi']"
      ]
     },
     "execution_count": 167,
     "metadata": {},
     "output_type": "execute_result"
    }
   ],
   "source": [
    "mylist"
   ]
  },
  {
   "cell_type": "code",
   "execution_count": 168,
   "id": "0bb1c9ae",
   "metadata": {},
   "outputs": [
    {
     "data": {
      "text/plain": [
       "11"
      ]
     },
     "execution_count": 168,
     "metadata": {},
     "output_type": "execute_result"
    }
   ],
   "source": [
    "len(mylist)"
   ]
  },
  {
   "cell_type": "code",
   "execution_count": 169,
   "id": "ceb3ef55",
   "metadata": {},
   "outputs": [],
   "source": [
    "mylist.extend(['kiwi','maggo',False])"
   ]
  },
  {
   "cell_type": "code",
   "execution_count": 170,
   "id": "d9fed9e6",
   "metadata": {},
   "outputs": [
    {
     "data": {
      "text/plain": [
       "['Apple',\n",
       " 'kiwi',\n",
       " 'mango',\n",
       " 'orange',\n",
       " 6,\n",
       " 7,\n",
       " 8,\n",
       " 9,\n",
       " True,\n",
       " False,\n",
       " 'kiwi',\n",
       " 'kiwi',\n",
       " 'maggo',\n",
       " False]"
      ]
     },
     "execution_count": 170,
     "metadata": {},
     "output_type": "execute_result"
    }
   ],
   "source": [
    "mylist"
   ]
  },
  {
   "cell_type": "code",
   "execution_count": 171,
   "id": "df90c853",
   "metadata": {},
   "outputs": [],
   "source": [
    "mylist.remove(True)"
   ]
  },
  {
   "cell_type": "code",
   "execution_count": 172,
   "id": "87f45c1b",
   "metadata": {},
   "outputs": [],
   "source": [
    "mylist.remove('kiwi')"
   ]
  },
  {
   "cell_type": "code",
   "execution_count": 173,
   "id": "0133a86a",
   "metadata": {},
   "outputs": [
    {
     "data": {
      "text/plain": [
       "['Apple', 'mango', 'orange', 6, 7, 8, 9, False, 'kiwi', 'kiwi', 'maggo', False]"
      ]
     },
     "execution_count": 173,
     "metadata": {},
     "output_type": "execute_result"
    }
   ],
   "source": [
    "mylist"
   ]
  },
  {
   "cell_type": "code",
   "execution_count": 174,
   "id": "766478a3",
   "metadata": {},
   "outputs": [],
   "source": [
    "mylist.remove(9)"
   ]
  },
  {
   "cell_type": "code",
   "execution_count": 175,
   "id": "986a51e3",
   "metadata": {},
   "outputs": [
    {
     "data": {
      "text/plain": [
       "['Apple', 'mango', 'orange', 6, 7, 8, False, 'kiwi', 'kiwi', 'maggo', False]"
      ]
     },
     "execution_count": 175,
     "metadata": {},
     "output_type": "execute_result"
    }
   ],
   "source": [
    "mylist"
   ]
  },
  {
   "cell_type": "code",
   "execution_count": 176,
   "id": "8add0774",
   "metadata": {},
   "outputs": [
    {
     "data": {
      "text/plain": [
       "'maggo'"
      ]
     },
     "execution_count": 176,
     "metadata": {},
     "output_type": "execute_result"
    }
   ],
   "source": [
    "mylist.pop(9)"
   ]
  },
  {
   "cell_type": "code",
   "execution_count": 177,
   "id": "d8d1ed1c",
   "metadata": {},
   "outputs": [
    {
     "data": {
      "text/plain": [
       "['Apple', 'mango', 'orange', 6, 7, 8, False, 'kiwi', 'kiwi', False]"
      ]
     },
     "execution_count": 177,
     "metadata": {},
     "output_type": "execute_result"
    }
   ],
   "source": [
    "mylist"
   ]
  },
  {
   "cell_type": "code",
   "execution_count": 178,
   "id": "a363d341",
   "metadata": {},
   "outputs": [],
   "source": [
    "#del mylist"
   ]
  },
  {
   "cell_type": "code",
   "execution_count": 179,
   "id": "2a8601a2",
   "metadata": {},
   "outputs": [
    {
     "data": {
      "text/plain": [
       "['Apple', 'mango', 'orange', 6, 7, 8, False, 'kiwi', 'kiwi', False]"
      ]
     },
     "execution_count": 179,
     "metadata": {},
     "output_type": "execute_result"
    }
   ],
   "source": [
    "mylist"
   ]
  },
  {
   "cell_type": "code",
   "execution_count": 182,
   "id": "01e94fe2",
   "metadata": {},
   "outputs": [],
   "source": [
    "mylist1=mylist[0:3]"
   ]
  },
  {
   "cell_type": "code",
   "execution_count": 189,
   "id": "53fd13d9",
   "metadata": {},
   "outputs": [],
   "source": [
    "mylist1.append('banana')"
   ]
  },
  {
   "cell_type": "code",
   "execution_count": 191,
   "id": "1cb7204a",
   "metadata": {},
   "outputs": [],
   "source": [
    "mylist2=mylist1"
   ]
  },
  {
   "cell_type": "code",
   "execution_count": 192,
   "id": "dad5c860",
   "metadata": {},
   "outputs": [
    {
     "name": "stdout",
     "output_type": "stream",
     "text": [
      "None\n"
     ]
    }
   ],
   "source": [
    "print(mylist2.sort())"
   ]
  },
  {
   "cell_type": "code",
   "execution_count": 193,
   "id": "fae2a58e",
   "metadata": {},
   "outputs": [
    {
     "data": {
      "text/plain": [
       "['Apple', 'banana', 'banana', 'banana', 'mango', 'orange']"
      ]
     },
     "execution_count": 193,
     "metadata": {},
     "output_type": "execute_result"
    }
   ],
   "source": [
    "mylist2"
   ]
  },
  {
   "cell_type": "code",
   "execution_count": 194,
   "id": "315e951f",
   "metadata": {},
   "outputs": [],
   "source": [
    "ex_list=[1,2,3,4]\n",
    "mylist.append(ex_list)"
   ]
  },
  {
   "cell_type": "code",
   "execution_count": 195,
   "id": "8b70a83c",
   "metadata": {},
   "outputs": [
    {
     "data": {
      "text/plain": [
       "['Apple',\n",
       " 'mango',\n",
       " 'orange',\n",
       " 6,\n",
       " 7,\n",
       " 8,\n",
       " False,\n",
       " 'kiwi',\n",
       " 'kiwi',\n",
       " False,\n",
       " [1, 2, 3, 4]]"
      ]
     },
     "execution_count": 195,
     "metadata": {},
     "output_type": "execute_result"
    }
   ],
   "source": [
    "mylist"
   ]
  },
  {
   "cell_type": "code",
   "execution_count": 196,
   "id": "9a416201",
   "metadata": {},
   "outputs": [],
   "source": [
    "mylist2=[10,34,12,56,33]"
   ]
  },
  {
   "cell_type": "code",
   "execution_count": 197,
   "id": "c119c703",
   "metadata": {},
   "outputs": [],
   "source": [
    "mylist2.sort()"
   ]
  },
  {
   "cell_type": "code",
   "execution_count": 198,
   "id": "01b9c241",
   "metadata": {},
   "outputs": [
    {
     "data": {
      "text/plain": [
       "[10, 12, 33, 34, 56]"
      ]
     },
     "execution_count": 198,
     "metadata": {},
     "output_type": "execute_result"
    }
   ],
   "source": [
    "mylist2"
   ]
  },
  {
   "cell_type": "code",
   "execution_count": 199,
   "id": "e3004bd4",
   "metadata": {},
   "outputs": [],
   "source": [
    "mylist2.sort(reverse=True)"
   ]
  },
  {
   "cell_type": "code",
   "execution_count": 200,
   "id": "c6e99d17",
   "metadata": {},
   "outputs": [
    {
     "data": {
      "text/plain": [
       "[56, 34, 33, 12, 10]"
      ]
     },
     "execution_count": 200,
     "metadata": {},
     "output_type": "execute_result"
    }
   ],
   "source": [
    "mylist2"
   ]
  },
  {
   "cell_type": "code",
   "execution_count": 201,
   "id": "bbe72b02",
   "metadata": {},
   "outputs": [],
   "source": [
    "mylist3=[10,34,12,56,33]"
   ]
  },
  {
   "cell_type": "code",
   "execution_count": 202,
   "id": "715ec852",
   "metadata": {},
   "outputs": [
    {
     "data": {
      "text/plain": [
       "[10, 34, 12, 56, 33]"
      ]
     },
     "execution_count": 202,
     "metadata": {},
     "output_type": "execute_result"
    }
   ],
   "source": [
    "mylist3"
   ]
  },
  {
   "cell_type": "code",
   "execution_count": 203,
   "id": "826e163f",
   "metadata": {},
   "outputs": [],
   "source": [
    "mylist3.sort(reverse=True)"
   ]
  },
  {
   "cell_type": "code",
   "execution_count": 204,
   "id": "3d071ec6",
   "metadata": {},
   "outputs": [
    {
     "data": {
      "text/plain": [
       "[56, 34, 33, 12, 10]"
      ]
     },
     "execution_count": 204,
     "metadata": {},
     "output_type": "execute_result"
    }
   ],
   "source": [
    "mylist3"
   ]
  },
  {
   "cell_type": "code",
   "execution_count": 205,
   "id": "9d428777",
   "metadata": {},
   "outputs": [
    {
     "name": "stdout",
     "output_type": "stream",
     "text": [
      "['Apple', 'banana', 'banana', 'banana', 'mango', 'orange']\n",
      "[56, 34, 33, 12, 10]\n"
     ]
    }
   ],
   "source": [
    "print(mylist1)\n",
    "print(mylist2)"
   ]
  },
  {
   "cell_type": "code",
   "execution_count": 207,
   "id": "e97f7ee1",
   "metadata": {},
   "outputs": [],
   "source": [
    "mylist4=mylist1+mylist2"
   ]
  },
  {
   "cell_type": "code",
   "execution_count": 208,
   "id": "52731a69",
   "metadata": {},
   "outputs": [
    {
     "data": {
      "text/plain": [
       "['Apple', 'banana', 'banana', 'banana', 'mango', 'orange', 56, 34, 33, 12, 10]"
      ]
     },
     "execution_count": 208,
     "metadata": {},
     "output_type": "execute_result"
    }
   ],
   "source": [
    "mylist4"
   ]
  },
  {
   "cell_type": "code",
   "execution_count": 209,
   "id": "69a50cc0",
   "metadata": {},
   "outputs": [],
   "source": [
    "mylist4.append('Gautam')"
   ]
  },
  {
   "cell_type": "code",
   "execution_count": 210,
   "id": "b585c2ff",
   "metadata": {},
   "outputs": [
    {
     "data": {
      "text/plain": [
       "['Apple',\n",
       " 'banana',\n",
       " 'banana',\n",
       " 'banana',\n",
       " 'mango',\n",
       " 'orange',\n",
       " 56,\n",
       " 34,\n",
       " 33,\n",
       " 12,\n",
       " 10,\n",
       " 'Gautam']"
      ]
     },
     "execution_count": 210,
     "metadata": {},
     "output_type": "execute_result"
    }
   ],
   "source": [
    "mylist4"
   ]
  },
  {
   "cell_type": "code",
   "execution_count": null,
   "id": "11fbff82",
   "metadata": {},
   "outputs": [],
   "source": []
  }
 ],
 "metadata": {
  "kernelspec": {
   "display_name": "Python 3 (ipykernel)",
   "language": "python",
   "name": "python3"
  },
  "language_info": {
   "codemirror_mode": {
    "name": "ipython",
    "version": 3
   },
   "file_extension": ".py",
   "mimetype": "text/x-python",
   "name": "python",
   "nbconvert_exporter": "python",
   "pygments_lexer": "ipython3",
   "version": "3.9.7"
  }
 },
 "nbformat": 4,
 "nbformat_minor": 5
}
