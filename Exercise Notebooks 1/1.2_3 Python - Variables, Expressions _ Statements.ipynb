{
 "cells": [
  {
   "cell_type": "markdown",
   "metadata": {},
   "source": [
    "# Python - Variables, Expressions & Statements"
   ]
  },
  {
   "cell_type": "markdown",
   "metadata": {},
   "source": [
    "# Variables"
   ]
  },
  {
   "cell_type": "markdown",
   "metadata": {},
   "source": [
    "The major purpose of variable is to store a value from one part of program so that it can be used in other part of program. It can be used to store the value of computation that is carried out during the flow of the program. A variable is a name that referes to a value."
   ]
  },
  {
   "cell_type": "markdown",
   "metadata": {},
   "source": [
    "<b> Assignment statement<b>"
   ]
  },
  {
   "cell_type": "markdown",
   "metadata": {},
   "source": [
    "Assignment statement creates a new variable and store a value in it. For example, "
   ]
  },
  {
   "cell_type": "code",
   "execution_count": null,
   "metadata": {},
   "outputs": [],
   "source": [
    "message = \"this is first string variable\"  # a string type variable named message is created and value is stored in it\n",
    "print(message)"
   ]
  },
  {
   "cell_type": "code",
   "execution_count": null,
   "metadata": {},
   "outputs": [],
   "source": [
    "num = 5 # an int type variable named num is created and 5 is stored as value in int \n",
    "print(\"num contains ----> \", num)\n",
    "print(\"type of num -----> \", type(num))"
   ]
  },
  {
   "cell_type": "code",
   "execution_count": null,
   "metadata": {},
   "outputs": [],
   "source": [
    "float_num = 3.5 # a variable of type float is created and value 3.5 stored in it\n",
    "print(\"float_num contains ----->  \", float_num)\n",
    "\n",
    "float_num = 4.5 # value of variable can be changed\n",
    "print(\"float_num now contains ----->  \", float_num)"
   ]
  },
  {
   "cell_type": "markdown",
   "metadata": {},
   "source": [
    "<b>Variable Naming<b>"
   ]
  },
  {
   "cell_type": "markdown",
   "metadata": {},
   "source": [
    "Choose the variable name that is meaningful and improves the readability of the program. <br>\n",
    "Rules to be kept in mind while naming the variables : <br>\n",
    "    - Letters, numbers and underscore are allowed\n",
    "    - Can not contain spaces \n",
    "    - Can not start with number\n",
    "    - It's case sensitive\n",
    "    - It should not be from the reserved keyword list\n",
    "    "
   ]
  },
  {
   "cell_type": "code",
   "execution_count": null,
   "metadata": {},
   "outputs": [],
   "source": [
    "name = \"valid variable name\" #valid variable name with letters"
   ]
  },
  {
   "cell_type": "code",
   "execution_count": null,
   "metadata": {},
   "outputs": [],
   "source": [
    "number1 = 12 # valid varibale name of type int"
   ]
  },
  {
   "cell_type": "code",
   "execution_count": null,
   "metadata": {},
   "outputs": [],
   "source": [
    "_name = \"valid variable\"  #variable name with underscore"
   ]
  },
  {
   "cell_type": "code",
   "execution_count": null,
   "metadata": {},
   "outputs": [],
   "source": [
    "# var name = \"some value\" #invalid variable name as it contains space in it"
   ]
  },
  {
   "cell_type": "code",
   "execution_count": null,
   "metadata": {},
   "outputs": [],
   "source": [
    "#1_name = \"invalid variable\"  # throws error as it starts with number"
   ]
  },
  {
   "cell_type": "markdown",
   "metadata": {},
   "source": [
    "Variable names are case sensitive. Following three variable has same spelling but still contains different values in it."
   ]
  },
  {
   "cell_type": "code",
   "execution_count": null,
   "metadata": {},
   "outputs": [],
   "source": [
    "name1 = \"xyz\""
   ]
  },
  {
   "cell_type": "code",
   "execution_count": null,
   "metadata": {},
   "outputs": [],
   "source": [
    "Name1 = \"por\""
   ]
  },
  {
   "cell_type": "code",
   "execution_count": null,
   "metadata": {},
   "outputs": [],
   "source": [
    "NaMe1 = \"abc\"  "
   ]
  },
  {
   "cell_type": "code",
   "execution_count": null,
   "metadata": {},
   "outputs": [],
   "source": [
    "print(\"name1--->\", name1)"
   ]
  },
  {
   "cell_type": "code",
   "execution_count": null,
   "metadata": {},
   "outputs": [],
   "source": [
    "print(\"Name1--->\", Name1)"
   ]
  },
  {
   "cell_type": "code",
   "execution_count": null,
   "metadata": {},
   "outputs": [],
   "source": [
    "print(\"NaMe1--->\", NaMe1)"
   ]
  },
  {
   "cell_type": "markdown",
   "metadata": {},
   "source": [
    "Variable name can not be a keyword."
   ]
  },
  {
   "cell_type": "code",
   "execution_count": null,
   "metadata": {},
   "outputs": [],
   "source": [
    "#class = \"my class value\"    # throws erros as class is reserved word"
   ]
  },
  {
   "cell_type": "markdown",
   "metadata": {},
   "source": [
    "# Statements"
   ]
  },
  {
   "cell_type": "markdown",
   "metadata": {},
   "source": [
    "It is unit of code that Python interpreter executes. It can be a single statement or group of statement like statements within loops, functions etc. When interpreter hits statement, it executes the statement and displays the result (if there is any). "
   ]
  },
  {
   "cell_type": "code",
   "execution_count": null,
   "metadata": {},
   "outputs": [],
   "source": [
    "#Function call is statement\n",
    "print('this is statement')"
   ]
  },
  {
   "cell_type": "code",
   "execution_count": null,
   "metadata": {},
   "outputs": [],
   "source": [
    "#Assignment is statement but does not produce any output\n",
    "x = 5"
   ]
  },
  {
   "cell_type": "code",
   "execution_count": null,
   "metadata": {},
   "outputs": [],
   "source": [
    "#Compound statment - for loop\n",
    "for i in range(5):\n",
    "    print(\"Coming inside the loop ----> \" , i + 1 , \" times\")\n",
    "    print(\"i is ---> \", i)"
   ]
  },
  {
   "cell_type": "markdown",
   "metadata": {},
   "source": [
    "# Expressions"
   ]
  },
  {
   "cell_type": "markdown",
   "metadata": {},
   "source": [
    "Expressions in Python can include operations among compatible types (e.g., integers and floats). For example, basic arithmetic operations like adding multiple numbers:"
   ]
  },
  {
   "cell_type": "code",
   "execution_count": null,
   "metadata": {},
   "outputs": [],
   "source": [
    "35 + 45 + 23"
   ]
  },
  {
   "cell_type": "markdown",
   "metadata": {},
   "source": [
    "Python follows well accepted mathematical conventions when evaluating mathematical expressions. In the following example, Python adds 3 to the result of the multiplication (i.e., 12)."
   ]
  },
  {
   "cell_type": "code",
   "execution_count": null,
   "metadata": {},
   "outputs": [],
   "source": [
    "4 * 3 + 3"
   ]
  },
  {
   "cell_type": "markdown",
   "metadata": {},
   "source": [
    "<b>Operators and Operands<b>"
   ]
  },
  {
   "cell_type": "markdown",
   "metadata": {},
   "source": [
    "These are special symbols that represents computations like addition, multiplication etc. Operand are values on which operators are applied."
   ]
  },
  {
   "cell_type": "code",
   "execution_count": null,
   "metadata": {},
   "outputs": [],
   "source": [
    "x = 5 + 6  # + is operator applied on operands 5 & 6"
   ]
  },
  {
   "cell_type": "code",
   "execution_count": null,
   "metadata": {},
   "outputs": [],
   "source": [
    "y = x * 9.5 # * is operator applied on operands x & 9.5"
   ]
  },
  {
   "cell_type": "code",
   "execution_count": null,
   "metadata": {},
   "outputs": [],
   "source": [
    "# z = y + 'abcs'  #throws error as operands should be compatible with the operator"
   ]
  },
  {
   "cell_type": "code",
   "execution_count": null,
   "metadata": {},
   "outputs": [],
   "source": [
    "string = 'BITS' + 'Pilani' #for string + is concatenation \n",
    "string"
   ]
  },
  {
   "cell_type": "code",
   "execution_count": null,
   "metadata": {},
   "outputs": [],
   "source": [
    "string = \"BITS Pilani \" * 3 #for string * is repetation\n",
    "string"
   ]
  },
  {
   "cell_type": "markdown",
   "metadata": {},
   "source": [
    "<b>Mathematical Operations / Expressions<b>"
   ]
  },
  {
   "cell_type": "code",
   "execution_count": null,
   "metadata": {},
   "outputs": [],
   "source": [
    "5 + 3 # addition"
   ]
  },
  {
   "cell_type": "code",
   "execution_count": null,
   "metadata": {},
   "outputs": [],
   "source": [
    "5 - 3 # subtraction"
   ]
  },
  {
   "cell_type": "code",
   "execution_count": null,
   "metadata": {},
   "outputs": [],
   "source": [
    "5 * 3 #multiplication"
   ]
  },
  {
   "cell_type": "code",
   "execution_count": null,
   "metadata": {},
   "outputs": [],
   "source": [
    "5 / 3 # regular division"
   ]
  },
  {
   "cell_type": "code",
   "execution_count": null,
   "metadata": {},
   "outputs": [],
   "source": [
    "5 // 3 # modulo division, returns reminder after division"
   ]
  },
  {
   "cell_type": "code",
   "execution_count": null,
   "metadata": {},
   "outputs": [],
   "source": [
    "5 % 3 #integer division"
   ]
  },
  {
   "cell_type": "code",
   "execution_count": null,
   "metadata": {},
   "outputs": [],
   "source": [
    "5 ** 3 # exponent"
   ]
  },
  {
   "cell_type": "code",
   "execution_count": null,
   "metadata": {},
   "outputs": [],
   "source": [
    "num1 = 2\n",
    "num2 = 3\n",
    "\n",
    "print(num1 + num2)  \n",
    "print(num1 - num2) \n",
    "print(num1 * num2) \n",
    "print(num1 / num2)\n",
    "print(num1 // num2)\n",
    "print(num1 % num2) \n",
    "print(num1 ** num2)"
   ]
  },
  {
   "cell_type": "code",
   "execution_count": null,
   "metadata": {},
   "outputs": [],
   "source": [
    "num1 = 8\n",
    "num1 += 5\n",
    "print(num1)\n",
    "num1 -= 1\n",
    "print(num1)"
   ]
  },
  {
   "cell_type": "markdown",
   "metadata": {},
   "source": [
    "<b> Comparison Operations<b>"
   ]
  },
  {
   "cell_type": "code",
   "execution_count": null,
   "metadata": {},
   "outputs": [],
   "source": [
    "num1 = 4\n",
    "num2 = 12\n",
    "print(num1 > num2)\n",
    "print(num1 < num2)\n",
    "print(num1 >= num2)\n",
    "print(num1 <= num2)\n",
    "print(num1 == num2)\n",
    "print(num1 != num2)"
   ]
  },
  {
   "cell_type": "markdown",
   "metadata": {},
   "source": [
    "# Exercise "
   ]
  },
  {
   "cell_type": "markdown",
   "metadata": {},
   "source": [
    "Q1. Compute the simple interest using the formula interest = p * n * r / 100 where p is principal, n is tenure of loan, and r is rate of interest. Accept p, n, r from users and then perform the interest calculation."
   ]
  },
  {
   "cell_type": "code",
   "execution_count": null,
   "metadata": {},
   "outputs": [],
   "source": [
    "#Try it here\n"
   ]
  },
  {
   "cell_type": "markdown",
   "metadata": {},
   "source": [
    "Q2. Write a program that asks user weight in kilogram and converts into pounds. There are 2.2 pound in one kilogram."
   ]
  },
  {
   "cell_type": "code",
   "execution_count": null,
   "metadata": {},
   "outputs": [],
   "source": [
    "#Try it here\n"
   ]
  },
  {
   "cell_type": "markdown",
   "metadata": {},
   "source": [
    "Q3. If a four digit number is entered through keyboard by user. Write a program to calculate the sum of its digits."
   ]
  },
  {
   "cell_type": "code",
   "execution_count": null,
   "metadata": {},
   "outputs": [],
   "source": [
    "#Try it here\n"
   ]
  },
  {
   "cell_type": "markdown",
   "metadata": {},
   "source": [
    "# Answers "
   ]
  },
  {
   "cell_type": "code",
   "execution_count": null,
   "metadata": {},
   "outputs": [],
   "source": [
    "#Q1 Solution\n",
    "p = eval(input(\"Enter the principal amount \\n\"))\n",
    "n = eval(input(\"Enter the tenure of loan in years \\n\"))\n",
    "r = eval(input(\"Enter the rate of interest in percentage \\n\"))\n",
    "\n",
    "interest = (p * n * r) / 100\n",
    "print(\"The interest for loan amount of Rs \", p , \" for tenure \", n, \" years \", \"with interest rate \", r,  \"%\\n\", interest)\n"
   ]
  },
  {
   "cell_type": "code",
   "execution_count": null,
   "metadata": {},
   "outputs": [],
   "source": [
    "#Q2 Solution\n",
    "weight = eval(input(\"Enter the weight in kilogram \\n\"))\n",
    "weight_in_pounds = weight * 2.2\n",
    "\n",
    "print(weight, \"kg = \", weight_in_pounds , \" pounds \")\n"
   ]
  },
  {
   "cell_type": "code",
   "execution_count": null,
   "metadata": {},
   "outputs": [],
   "source": [
    "#Q3 Solution\n",
    "number = int(input(\"Enter a four digit number\"))\n",
    "\n",
    "sum_of_digits = 0 \n",
    "\n",
    "digit1 = number % 10\n",
    "sum_of_digits = sum_of_digits + digit1\n",
    "number = int(number / 10 )\n",
    "\n",
    "digit2 = number % 10\n",
    "sum_of_digits = sum_of_digits + digit2\n",
    "number = int(number / 10)\n",
    "\n",
    "digit3 = number % 10\n",
    "sum_of_digits = sum_of_digits + digit3\n",
    "number = int(number / 10)\n",
    "\n",
    "digit4 = number % 10\n",
    "sum_of_digits = sum_of_digits + digit4\n",
    "number = int(number / 10)\n",
    "\n",
    "print(\"The sum of digits of number is  \", sum_of_digits)"
   ]
  },
  {
   "cell_type": "code",
   "execution_count": null,
   "metadata": {},
   "outputs": [],
   "source": []
  }
 ],
 "metadata": {
  "kernelspec": {
   "display_name": "Python 3 (ipykernel)",
   "language": "python",
   "name": "python3"
  },
  "language_info": {
   "codemirror_mode": {
    "name": "ipython",
    "version": 3
   },
   "file_extension": ".py",
   "mimetype": "text/x-python",
   "name": "python",
   "nbconvert_exporter": "python",
   "pygments_lexer": "ipython3",
   "version": "3.9.7"
  }
 },
 "nbformat": 4,
 "nbformat_minor": 2
}
