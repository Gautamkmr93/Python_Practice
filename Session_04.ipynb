{
 "cells": [
  {
   "cell_type": "code",
   "execution_count": 1,
   "id": "c1399a43",
   "metadata": {},
   "outputs": [],
   "source": [
    "name=[\"gautam\",\"Ram\",\"supriya\",\"shyam\",\"Mrx\"]"
   ]
  },
  {
   "cell_type": "code",
   "execution_count": 4,
   "id": "5f3afbed",
   "metadata": {},
   "outputs": [
    {
     "name": "stdout",
     "output_type": "stream",
     "text": [
      "No Supriya name in the list\n",
      "No Supriya name in the list\n",
      "supriya\n",
      "No Supriya name in the list\n"
     ]
    }
   ],
   "source": [
    "for i in name:\n",
    "    if i==\"supriya\":\n",
    "        print(i)\n",
    "    else:\n",
    "        print(\"No Supriya name in the list\")"
   ]
  },
  {
   "cell_type": "markdown",
   "id": "3380e96f",
   "metadata": {},
   "source": [
    "creating a new list which is having at least one \"a\""
   ]
  },
  {
   "cell_type": "code",
   "execution_count": 7,
   "id": "bfe78431",
   "metadata": {},
   "outputs": [],
   "source": [
    "name=[\"gautam\",\"Ram\",\"supriya\",\"shyam\",\"Mrx\"]\n",
    "name_a=[]\n",
    "for x in name:\n",
    "    if \"a\" in x:\n",
    "        name_a.append(x)\n",
    "        "
   ]
  },
  {
   "cell_type": "code",
   "execution_count": 8,
   "id": "3a4b8005",
   "metadata": {},
   "outputs": [
    {
     "data": {
      "text/plain": [
       "['gautam', 'Ram', 'supriya', 'shyam']"
      ]
     },
     "execution_count": 8,
     "metadata": {},
     "output_type": "execute_result"
    }
   ],
   "source": [
    "name_a"
   ]
  },
  {
   "cell_type": "code",
   "execution_count": 9,
   "id": "34b786dc",
   "metadata": {},
   "outputs": [],
   "source": [
    "name_aa=[x for x in name if \"a\" in x]"
   ]
  },
  {
   "cell_type": "code",
   "execution_count": 10,
   "id": "e179fa35",
   "metadata": {},
   "outputs": [
    {
     "data": {
      "text/plain": [
       "['gautam', 'Ram', 'supriya', 'shyam']"
      ]
     },
     "execution_count": 10,
     "metadata": {},
     "output_type": "execute_result"
    }
   ],
   "source": [
    "name_aa"
   ]
  },
  {
   "cell_type": "markdown",
   "id": "b1b7904e",
   "metadata": {},
   "source": [
    "# Syntax for list comprehension"
   ]
  },
  {
   "cell_type": "code",
   "execution_count": null,
   "id": "d28a36b9",
   "metadata": {},
   "outputs": [],
   "source": [
    "newlist=[expression for item in iterable if condition==True]"
   ]
  },
  {
   "cell_type": "code",
   "execution_count": 11,
   "id": "d69e2afe",
   "metadata": {},
   "outputs": [],
   "source": [
    "name_aa=[x for x in name if \"a\" in x]"
   ]
  },
  {
   "cell_type": "code",
   "execution_count": 12,
   "id": "a049a3d1",
   "metadata": {},
   "outputs": [
    {
     "data": {
      "text/plain": [
       "['gautam', 'Ram', 'supriya', 'shyam']"
      ]
     },
     "execution_count": 12,
     "metadata": {},
     "output_type": "execute_result"
    }
   ],
   "source": [
    "name_aa"
   ]
  },
  {
   "cell_type": "markdown",
   "id": "1bc1a125",
   "metadata": {},
   "source": [
    "generate a number from range and put it in a list"
   ]
  },
  {
   "cell_type": "code",
   "execution_count": 17,
   "id": "ecc71bae",
   "metadata": {},
   "outputs": [
    {
     "name": "stdout",
     "output_type": "stream",
     "text": [
      "Enter your number:5\n",
      "[0, 1, 2, 3, 4]\n"
     ]
    }
   ],
   "source": [
    "N=int(input(\"Enter your number:\"))\n",
    "newlist=[]\n",
    "for i in range(N):\n",
    "    newlist.append(i)\n",
    "print(newlist)"
   ]
  },
  {
   "cell_type": "code",
   "execution_count": 15,
   "id": "1157daf5",
   "metadata": {},
   "outputs": [
    {
     "data": {
      "text/plain": [
       "[0, 1, 2, 3, 4, 5, 6, 7, 8, 9]"
      ]
     },
     "execution_count": 15,
     "metadata": {},
     "output_type": "execute_result"
    }
   ],
   "source": [
    "newlist"
   ]
  },
  {
   "cell_type": "code",
   "execution_count": 18,
   "id": "84d2ccd8",
   "metadata": {},
   "outputs": [
    {
     "name": "stdout",
     "output_type": "stream",
     "text": [
      "Enter your number:10\n",
      "[0, 1, 2, 3, 4, 5, 6, 7, 8, 9]\n"
     ]
    }
   ],
   "source": [
    "N=int(input(\"Enter your number:\"))\n",
    "newlist1=[x for x in range(N)]\n",
    "print(newlist1)"
   ]
  },
  {
   "cell_type": "code",
   "execution_count": 24,
   "id": "d71a6883",
   "metadata": {},
   "outputs": [
    {
     "name": "stdout",
     "output_type": "stream",
     "text": [
      "Enter your number:10\n",
      "[1, 2, 3, 4, 5, 6, 7, 8, 9, 10]\n"
     ]
    }
   ],
   "source": [
    "N=int(input(\"Enter your number:\"))\n",
    "newlist=[]\n",
    "for i in range(N):\n",
    "        i+=1\n",
    "        newlist.append(i)\n",
    "print(newlist)"
   ]
  },
  {
   "cell_type": "code",
   "execution_count": 25,
   "id": "49f02441",
   "metadata": {},
   "outputs": [
    {
     "name": "stdout",
     "output_type": "stream",
     "text": [
      "Enter your number:10\n"
     ]
    }
   ],
   "source": [
    "N=int(input(\"Enter your number:\"))\n",
    "newlist1=[i+1 for i in range(N) ]"
   ]
  },
  {
   "cell_type": "code",
   "execution_count": 26,
   "id": "004823f0",
   "metadata": {},
   "outputs": [
    {
     "data": {
      "text/plain": [
       "[1, 2, 3, 4, 5, 6, 7, 8, 9, 10]"
      ]
     },
     "execution_count": 26,
     "metadata": {},
     "output_type": "execute_result"
    }
   ],
   "source": [
    "newlist1"
   ]
  },
  {
   "cell_type": "raw",
   "id": "3e7afef7",
   "metadata": {},
   "source": [
    "# case1: list of a radious [5,6,7,8,9]"
   ]
  },
  {
   "cell_type": "code",
   "execution_count": 33,
   "id": "a5adf069",
   "metadata": {},
   "outputs": [
    {
     "name": "stdout",
     "output_type": "stream",
     "text": [
      "5\n",
      "78.5\n",
      "6\n",
      "113.03999999999999\n",
      "7\n",
      "153.86\n",
      "8\n",
      "200.96\n",
      "9\n",
      "254.34\n",
      "[78.5, 113.03999999999999, 153.86, 200.96, 254.34]\n"
     ]
    }
   ],
   "source": [
    "rad=[5,6,7,8,9]\n",
    "pi=3.14\n",
    "area=[]\n",
    "for i in rad:\n",
    "    area_of=pi*i*i\n",
    "    print(i)\n",
    "    print(area_of)\n",
    "    area.append(area_of)\n",
    "print(area)"
   ]
  },
  {
   "cell_type": "code",
   "execution_count": 31,
   "id": "5efbff80",
   "metadata": {},
   "outputs": [],
   "source": [
    "newlist1=[3.14*i*i for i in rad]"
   ]
  },
  {
   "cell_type": "code",
   "execution_count": 32,
   "id": "ff8ae0fd",
   "metadata": {},
   "outputs": [
    {
     "data": {
      "text/plain": [
       "[78.5, 113.03999999999999, 153.86, 200.96, 254.34]"
      ]
     },
     "execution_count": 32,
     "metadata": {},
     "output_type": "execute_result"
    }
   ],
   "source": [
    "newlist1"
   ]
  },
  {
   "cell_type": "markdown",
   "id": "7fb10d06",
   "metadata": {},
   "source": [
    "# Function"
   ]
  },
  {
   "cell_type": "code",
   "execution_count": 34,
   "id": "c82e8399",
   "metadata": {},
   "outputs": [],
   "source": [
    "def circle_area(r):\n",
    "    area=3.14*r*r\n",
    "    return area\n",
    "def circle_perimeter(r):\n",
    "    perimeter=3.14*2*r\n",
    "    return perimeter"
   ]
  },
  {
   "cell_type": "code",
   "execution_count": 39,
   "id": "7be467f8",
   "metadata": {},
   "outputs": [
    {
     "name": "stdout",
     "output_type": "stream",
     "text": [
      "1256.0\n",
      "182.12\n"
     ]
    }
   ],
   "source": [
    "print(circle_area(20))\n",
    "print(circle_perimeter(29))"
   ]
  },
  {
   "cell_type": "code",
   "execution_count": 43,
   "id": "16a08d46",
   "metadata": {},
   "outputs": [],
   "source": [
    "def circle_area(r,pi):\n",
    "    area=pi*r*r\n",
    "    return area\n",
    "def circle_perimeter(r,pi):\n",
    "    perimeter=pi*2*r\n",
    "    return perimeter"
   ]
  },
  {
   "cell_type": "code",
   "execution_count": 44,
   "id": "0c0b4a2e",
   "metadata": {},
   "outputs": [
    {
     "name": "stdout",
     "output_type": "stream",
     "text": [
      "1256.0\n",
      "182.12\n"
     ]
    }
   ],
   "source": [
    "print(circle_area(20,3.14))\n",
    "print(circle_perimeter(29,3.14))"
   ]
  },
  {
   "cell_type": "code",
   "execution_count": 52,
   "id": "e1fafe50",
   "metadata": {},
   "outputs": [],
   "source": [
    "list_rad=[10,20,30]\n",
    "def circle_area(list_rad,pi **kwargs):\n",
    "    area_list=[]\n",
    "    for i in list_rad:\n",
    "        area=pi*i*i\n",
    "        area_list.append(area)\n",
    "    return area_list"
   ]
  },
  {
   "cell_type": "code",
   "execution_count": 53,
   "id": "165da4a7",
   "metadata": {},
   "outputs": [
    {
     "data": {
      "text/plain": [
       "[314.0, 1256.0, 2826.0]"
      ]
     },
     "execution_count": 53,
     "metadata": {},
     "output_type": "execute_result"
    }
   ],
   "source": [
    "circle_area([10,20,30],3.14)"
   ]
  },
  {
   "cell_type": "code",
   "execution_count": null,
   "id": "548146ad",
   "metadata": {},
   "outputs": [],
   "source": [
    "def circle_area(list_rad,pi **kwargs):\n",
    "    pass\n",
    "    "
   ]
  },
  {
   "cell_type": "code",
   "execution_count": 61,
   "id": "1cc95b9f",
   "metadata": {},
   "outputs": [],
   "source": [
    "def func(**kwargs):\n",
    "    print(\"your first name is \"+kwargs[\"lname\"])"
   ]
  },
  {
   "cell_type": "code",
   "execution_count": 62,
   "id": "af0a175d",
   "metadata": {},
   "outputs": [
    {
     "name": "stdout",
     "output_type": "stream",
     "text": [
      "your first name is Kumar\n"
     ]
    }
   ],
   "source": [
    "func(fname=\"Gautam\",lname=\"Kumar\",mid=\"Something\")"
   ]
  },
  {
   "cell_type": "code",
   "execution_count": 59,
   "id": "f6d7dc28",
   "metadata": {},
   "outputs": [],
   "source": [
    "def func(fname):\n",
    "    print(\"your first name is \" + fname)"
   ]
  },
  {
   "cell_type": "code",
   "execution_count": 60,
   "id": "feba0092",
   "metadata": {},
   "outputs": [
    {
     "name": "stdout",
     "output_type": "stream",
     "text": [
      "your first name is Gautam\n"
     ]
    }
   ],
   "source": [
    "func(\"Gautam\")"
   ]
  },
  {
   "cell_type": "code",
   "execution_count": 63,
   "id": "dc2ff962",
   "metadata": {},
   "outputs": [],
   "source": [
    "def cal(a,b,c,d,e,f):\n",
    "    cal1=a+b+c+d-e*f\n",
    "    return cal1"
   ]
  },
  {
   "cell_type": "code",
   "execution_count": 64,
   "id": "e3eb4197",
   "metadata": {},
   "outputs": [
    {
     "data": {
      "text/plain": [
       "-400"
      ]
     },
     "execution_count": 64,
     "metadata": {},
     "output_type": "execute_result"
    }
   ],
   "source": [
    "#a+b+c+d-e*f\n",
    "cal(10,20,30,40,50,10)"
   ]
  },
  {
   "cell_type": "code",
   "execution_count": 74,
   "id": "0e9ddfb0",
   "metadata": {},
   "outputs": [],
   "source": [
    "cal1=lambda a,b,c,d,e,f:(a+b+c+d-e*f)"
   ]
  },
  {
   "cell_type": "code",
   "execution_count": 76,
   "id": "574d7573",
   "metadata": {},
   "outputs": [
    {
     "name": "stdout",
     "output_type": "stream",
     "text": [
      "-400\n"
     ]
    }
   ],
   "source": [
    "print(cal1(10,20,30,40,50,10))"
   ]
  },
  {
   "cell_type": "code",
   "execution_count": null,
   "id": "e3cc0722",
   "metadata": {},
   "outputs": [],
   "source": []
  }
 ],
 "metadata": {
  "kernelspec": {
   "display_name": "Python 3 (ipykernel)",
   "language": "python",
   "name": "python3"
  },
  "language_info": {
   "codemirror_mode": {
    "name": "ipython",
    "version": 3
   },
   "file_extension": ".py",
   "mimetype": "text/x-python",
   "name": "python",
   "nbconvert_exporter": "python",
   "pygments_lexer": "ipython3",
   "version": "3.9.7"
  }
 },
 "nbformat": 4,
 "nbformat_minor": 5
}
